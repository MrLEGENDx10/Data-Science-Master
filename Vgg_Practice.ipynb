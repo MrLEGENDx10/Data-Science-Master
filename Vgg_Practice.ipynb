{
  "nbformat": 4,
  "nbformat_minor": 0,
  "metadata": {
    "colab": {
      "provenance": [],
      "gpuType": "T4",
      "authorship_tag": "ABX9TyNCKeD7nfcpLfAUWN7fLcRj",
      "include_colab_link": true
    },
    "kernelspec": {
      "name": "python3",
      "display_name": "Python 3"
    },
    "language_info": {
      "name": "python"
    },
    "accelerator": "GPU"
  },
  "cells": [
    {
      "cell_type": "markdown",
      "metadata": {
        "id": "view-in-github",
        "colab_type": "text"
      },
      "source": [
        "<a href=\"https://colab.research.google.com/github/daemonX10/Data-Science/blob/main/Vgg_Practice.ipynb\" target=\"_parent\"><img src=\"https://colab.research.google.com/assets/colab-badge.svg\" alt=\"Open In Colab\"/></a>"
      ]
    },
    {
      "cell_type": "code",
      "source": [
        "!mkdir -p ~/.kaggle\n",
        "!cp kaggle.json ~/.kaggle/"
      ],
      "metadata": {
        "id": "Yl2YxuYalL_O"
      },
      "execution_count": 3,
      "outputs": []
    },
    {
      "cell_type": "code",
      "source": [
        "!kaggle datasets download -d nunenuh/pytorch-challange-flower-dataset"
      ],
      "metadata": {
        "colab": {
          "base_uri": "https://localhost:8080/"
        },
        "id": "T3OzQ7gYFKaI",
        "outputId": "c0601393-201a-4e36-ecef-00fe3f6dc1ad"
      },
      "execution_count": 7,
      "outputs": [
        {
          "output_type": "stream",
          "name": "stdout",
          "text": [
            "Warning: Your Kaggle API key is readable by other users on this system! To fix this, you can run 'chmod 600 /root/.kaggle/kaggle.json'\n",
            "Dataset URL: https://www.kaggle.com/datasets/nunenuh/pytorch-challange-flower-dataset\n",
            "License(s): CC0-1.0\n",
            "Downloading pytorch-challange-flower-dataset.zip to /content\n",
            " 99% 328M/330M [00:18<00:00, 25.0MB/s]\n",
            "100% 330M/330M [00:18<00:00, 18.5MB/s]\n"
          ]
        }
      ]
    },
    {
      "cell_type": "code",
      "source": [
        "import zipfile\n",
        "zip_ref = zipfile.ZipFile('/content/pytorch-challange-flower-dataset.zip', 'r')\n",
        "zip_ref.extractall('/content')\n",
        "zip_ref.close()"
      ],
      "metadata": {
        "id": "aVGRv9n0FTpT"
      },
      "execution_count": 17,
      "outputs": []
    },
    {
      "cell_type": "code",
      "source": [
        "import tensorflow as tf\n",
        "import keras,os\n",
        "from keras.models import Sequential\n",
        "from keras.layers import Dense, Conv2D, MaxPool2D , Flatten\n",
        "from keras.preprocessing.image import ImageDataGenerator\n",
        "import numpy as np\n",
        "import matplotlib.pyplot as plt"
      ],
      "metadata": {
        "id": "NwYCnUAQG8z2"
      },
      "execution_count": 10,
      "outputs": []
    },
    {
      "cell_type": "code",
      "source": [
        "train_ds = keras.utils.image_dataset_from_directory(\n",
        "    directory = '/content/dataset/train',\n",
        "    labels='inferred',\n",
        "    label_mode = 'int',\n",
        "    batch_size=32,\n",
        "    image_size=(224,224)\n",
        ")"
      ],
      "metadata": {
        "colab": {
          "base_uri": "https://localhost:8080/"
        },
        "id": "wRYRVOzFHXqP",
        "outputId": "665266cf-7bbe-4e11-9b25-79f26e595f06"
      },
      "execution_count": 36,
      "outputs": [
        {
          "output_type": "stream",
          "name": "stdout",
          "text": [
            "Found 6552 files belonging to 102 classes.\n"
          ]
        }
      ]
    },
    {
      "cell_type": "code",
      "source": [
        "validation_ds = keras.utils.image_dataset_from_directory(\n",
        "    directory = '/content/dataset/valid',\n",
        "    labels='inferred',\n",
        "    label_mode = 'int',\n",
        "    batch_size=32,\n",
        "    image_size=(224,224)\n",
        ")"
      ],
      "metadata": {
        "colab": {
          "base_uri": "https://localhost:8080/"
        },
        "id": "YQ5m78YAIClG",
        "outputId": "cb6e724a-a799-4921-a404-afb21bb41690"
      },
      "execution_count": 37,
      "outputs": [
        {
          "output_type": "stream",
          "name": "stdout",
          "text": [
            "Found 818 files belonging to 102 classes.\n"
          ]
        }
      ]
    },
    {
      "cell_type": "code",
      "source": [
        "validation_ds"
      ],
      "metadata": {
        "colab": {
          "base_uri": "https://localhost:8080/"
        },
        "id": "BM1sTARDI3pH",
        "outputId": "4afe8459-5db8-4b13-8a87-8f96ed995b59"
      },
      "execution_count": 19,
      "outputs": [
        {
          "output_type": "execute_result",
          "data": {
            "text/plain": [
              "<_PrefetchDataset element_spec=(TensorSpec(shape=(None, 256, 256, 3), dtype=tf.float32, name=None), TensorSpec(shape=(None,), dtype=tf.int32, name=None))>"
            ]
          },
          "metadata": {},
          "execution_count": 19
        }
      ]
    },
    {
      "cell_type": "code",
      "source": [
        "# # Assuming 'process' function is defined elsewhere and responsible for\n",
        "# # resizing images, ensure it resizes images to (224, 224)\n",
        "\n",
        "# def process(image, label):\n",
        "#   # ... other preprocessing steps\n",
        "#   image = tf.image.resize(image, (224, 224))  # Resize image to match model input\n",
        "#   return image, label\n",
        "\n",
        "# train_ds = train_ds.map(process)\n",
        "# validation_ds = validation_ds.map(process)\n",
        "\n",
        "# # ... rest of your model definition"
      ],
      "metadata": {
        "id": "fkkQMwWTNkGq"
      },
      "execution_count": null,
      "outputs": []
    },
    {
      "cell_type": "code",
      "source": [
        "import tensorflow"
      ],
      "metadata": {
        "id": "wdRqvnSiJOBB"
      },
      "execution_count": 22,
      "outputs": []
    },
    {
      "cell_type": "code",
      "source": [
        "def process(image,label):\n",
        "   image = tensorflow.cast(image/224.,tensorflow.float32)\n",
        "   return image,label"
      ],
      "metadata": {
        "id": "LlN4sHmkIUJ1"
      },
      "execution_count": 38,
      "outputs": []
    },
    {
      "cell_type": "code",
      "source": [
        "train_ds = train_ds.map(process)\n",
        "validation_ds = validation_ds.map(process)"
      ],
      "metadata": {
        "id": "T3RSvcu4JFV2"
      },
      "execution_count": 39,
      "outputs": []
    },
    {
      "cell_type": "code",
      "source": [
        "# Vgg with some modification"
      ],
      "metadata": {
        "id": "I9JOnOraTOUF"
      },
      "execution_count": 49,
      "outputs": []
    },
    {
      "cell_type": "code",
      "source": [
        "from warnings import filters\n",
        "from keras.regularizers import l2\n",
        "from keras.layers import BatchNormalization\n",
        "\n",
        "model = Sequential()\n",
        "model.add(Conv2D(input_shape=(224,224,3),filters=64,kernel_size=(3,3),activation='relu',kernel_regularizer=l2(0.01)))\n",
        "model.add(BatchNormalization())\n",
        "model.add(Conv2D(filters=64,kernel_size=(3,3),activation='relu',padding='same'))\n",
        "model.add(MaxPool2D(pool_size=(2,2),strides=2))\n",
        "\n",
        "\n",
        "model.add(Conv2D(filters=128,kernel_size=(3,3),kernel_regularizer=l2(0.01),padding='same',activation='relu'))\n",
        "model.add(Conv2D(filters=128,kernel_size=(3,3),padding='same',activation='relu'))\n",
        "model.add(BatchNormalization())\n",
        "model.add(MaxPool2D(pool_size=(2,2),strides=2))\n",
        "model.add(Dropout(0.25))\n",
        "\n",
        "model.add(Conv2D(filters=256,kernel_size=(3,3),kernel_regularizer=l2(0.01),padding='same',activation='relu'))\n",
        "model.add(Conv2D(filters=256,kernel_size=(3,3),padding='same',activation='relu'))\n",
        "model.add(BatchNormalization())\n",
        "model.add(MaxPool2D(pool_size=(2,2),strides=2))\n",
        "model.add(Dropout(0.25))\n",
        "\n",
        "model.add(Conv2D(filters=512,kernel_size=(3,3),kernel_regularizer=l2(0.01),padding='same',activation='relu'))\n",
        "model.add(Conv2D(filters=512,kernel_size=(3,3),padding='same',activation='relu'))\n",
        "model.add(BatchNormalization())\n",
        "model.add(MaxPool2D(pool_size=(2,2),strides=2))\n",
        "\n",
        "\n",
        "model.add(Flatten())\n",
        "model.add(Dense(units=4096,activation='relu'))\n",
        "model.add(BatchNormalization())\n",
        "model.add(Dense(units=4096,activation='relu'))\n",
        "model.add(BatchNormalization())\n",
        "model.add(Dense(units=102,activation='softmax'))"
      ],
      "metadata": {
        "colab": {
          "base_uri": "https://localhost:8080/",
          "height": 480
        },
        "id": "nbn5ZNeuJpXE",
        "outputId": "1fc437a0-917d-4244-bd23-534e1cda71d3"
      },
      "execution_count": 57,
      "outputs": [
        {
          "output_type": "error",
          "ename": "ResourceExhaustedError",
          "evalue": "{{function_node __wrapped__StatelessRandomUniformV2_device_/job:localhost/replica:0/task:0/device:GPU:0}} OOM when allocating tensor with shape[86528,4096] and type float on /job:localhost/replica:0/task:0/device:GPU:0 by allocator GPU_0_bfc [Op:StatelessRandomUniformV2] name: ",
          "traceback": [
            "\u001b[0;31m---------------------------------------------------------------------------\u001b[0m",
            "\u001b[0;31mResourceExhaustedError\u001b[0m                    Traceback (most recent call last)",
            "\u001b[0;32m<ipython-input-57-903428833c97>\u001b[0m in \u001b[0;36m<cell line: 31>\u001b[0;34m()\u001b[0m\n\u001b[1;32m     29\u001b[0m \u001b[0;34m\u001b[0m\u001b[0m\n\u001b[1;32m     30\u001b[0m \u001b[0mmodel\u001b[0m\u001b[0;34m.\u001b[0m\u001b[0madd\u001b[0m\u001b[0;34m(\u001b[0m\u001b[0mFlatten\u001b[0m\u001b[0;34m(\u001b[0m\u001b[0;34m)\u001b[0m\u001b[0;34m)\u001b[0m\u001b[0;34m\u001b[0m\u001b[0;34m\u001b[0m\u001b[0m\n\u001b[0;32m---> 31\u001b[0;31m \u001b[0mmodel\u001b[0m\u001b[0;34m.\u001b[0m\u001b[0madd\u001b[0m\u001b[0;34m(\u001b[0m\u001b[0mDense\u001b[0m\u001b[0;34m(\u001b[0m\u001b[0munits\u001b[0m\u001b[0;34m=\u001b[0m\u001b[0;36m4096\u001b[0m\u001b[0;34m,\u001b[0m\u001b[0mactivation\u001b[0m\u001b[0;34m=\u001b[0m\u001b[0;34m'relu'\u001b[0m\u001b[0;34m)\u001b[0m\u001b[0;34m)\u001b[0m\u001b[0;34m\u001b[0m\u001b[0;34m\u001b[0m\u001b[0m\n\u001b[0m\u001b[1;32m     32\u001b[0m \u001b[0mmodel\u001b[0m\u001b[0;34m.\u001b[0m\u001b[0madd\u001b[0m\u001b[0;34m(\u001b[0m\u001b[0mBatchNormalization\u001b[0m\u001b[0;34m(\u001b[0m\u001b[0;34m)\u001b[0m\u001b[0;34m)\u001b[0m\u001b[0;34m\u001b[0m\u001b[0;34m\u001b[0m\u001b[0m\n\u001b[1;32m     33\u001b[0m \u001b[0mmodel\u001b[0m\u001b[0;34m.\u001b[0m\u001b[0madd\u001b[0m\u001b[0;34m(\u001b[0m\u001b[0mDense\u001b[0m\u001b[0;34m(\u001b[0m\u001b[0munits\u001b[0m\u001b[0;34m=\u001b[0m\u001b[0;36m4096\u001b[0m\u001b[0;34m,\u001b[0m\u001b[0mactivation\u001b[0m\u001b[0;34m=\u001b[0m\u001b[0;34m'relu'\u001b[0m\u001b[0;34m)\u001b[0m\u001b[0;34m)\u001b[0m\u001b[0;34m\u001b[0m\u001b[0;34m\u001b[0m\u001b[0m\n",
            "\u001b[0;32m/usr/local/lib/python3.10/dist-packages/tensorflow/python/trackable/base.py\u001b[0m in \u001b[0;36m_method_wrapper\u001b[0;34m(self, *args, **kwargs)\u001b[0m\n\u001b[1;32m    202\u001b[0m     \u001b[0mself\u001b[0m\u001b[0;34m.\u001b[0m\u001b[0m_self_setattr_tracking\u001b[0m \u001b[0;34m=\u001b[0m \u001b[0;32mFalse\u001b[0m  \u001b[0;31m# pylint: disable=protected-access\u001b[0m\u001b[0;34m\u001b[0m\u001b[0;34m\u001b[0m\u001b[0m\n\u001b[1;32m    203\u001b[0m     \u001b[0;32mtry\u001b[0m\u001b[0;34m:\u001b[0m\u001b[0;34m\u001b[0m\u001b[0;34m\u001b[0m\u001b[0m\n\u001b[0;32m--> 204\u001b[0;31m       \u001b[0mresult\u001b[0m \u001b[0;34m=\u001b[0m \u001b[0mmethod\u001b[0m\u001b[0;34m(\u001b[0m\u001b[0mself\u001b[0m\u001b[0;34m,\u001b[0m \u001b[0;34m*\u001b[0m\u001b[0margs\u001b[0m\u001b[0;34m,\u001b[0m \u001b[0;34m**\u001b[0m\u001b[0mkwargs\u001b[0m\u001b[0;34m)\u001b[0m\u001b[0;34m\u001b[0m\u001b[0;34m\u001b[0m\u001b[0m\n\u001b[0m\u001b[1;32m    205\u001b[0m     \u001b[0;32mfinally\u001b[0m\u001b[0;34m:\u001b[0m\u001b[0;34m\u001b[0m\u001b[0;34m\u001b[0m\u001b[0m\n\u001b[1;32m    206\u001b[0m       \u001b[0mself\u001b[0m\u001b[0;34m.\u001b[0m\u001b[0m_self_setattr_tracking\u001b[0m \u001b[0;34m=\u001b[0m \u001b[0mprevious_value\u001b[0m  \u001b[0;31m# pylint: disable=protected-access\u001b[0m\u001b[0;34m\u001b[0m\u001b[0;34m\u001b[0m\u001b[0m\n",
            "\u001b[0;32m/usr/local/lib/python3.10/dist-packages/keras/src/utils/traceback_utils.py\u001b[0m in \u001b[0;36merror_handler\u001b[0;34m(*args, **kwargs)\u001b[0m\n\u001b[1;32m     68\u001b[0m             \u001b[0;31m# To get the full stack trace, call:\u001b[0m\u001b[0;34m\u001b[0m\u001b[0;34m\u001b[0m\u001b[0m\n\u001b[1;32m     69\u001b[0m             \u001b[0;31m# `tf.debugging.disable_traceback_filtering()`\u001b[0m\u001b[0;34m\u001b[0m\u001b[0;34m\u001b[0m\u001b[0m\n\u001b[0;32m---> 70\u001b[0;31m             \u001b[0;32mraise\u001b[0m \u001b[0me\u001b[0m\u001b[0;34m.\u001b[0m\u001b[0mwith_traceback\u001b[0m\u001b[0;34m(\u001b[0m\u001b[0mfiltered_tb\u001b[0m\u001b[0;34m)\u001b[0m \u001b[0;32mfrom\u001b[0m \u001b[0;32mNone\u001b[0m\u001b[0;34m\u001b[0m\u001b[0;34m\u001b[0m\u001b[0m\n\u001b[0m\u001b[1;32m     71\u001b[0m         \u001b[0;32mfinally\u001b[0m\u001b[0;34m:\u001b[0m\u001b[0;34m\u001b[0m\u001b[0;34m\u001b[0m\u001b[0m\n\u001b[1;32m     72\u001b[0m             \u001b[0;32mdel\u001b[0m \u001b[0mfiltered_tb\u001b[0m\u001b[0;34m\u001b[0m\u001b[0;34m\u001b[0m\u001b[0m\n",
            "\u001b[0;32m/usr/local/lib/python3.10/dist-packages/keras/src/backend.py\u001b[0m in \u001b[0;36mrandom_uniform\u001b[0;34m(self, shape, minval, maxval, dtype, nonce)\u001b[0m\n\u001b[1;32m   2098\u001b[0m             \u001b[0;32mif\u001b[0m \u001b[0mnonce\u001b[0m\u001b[0;34m:\u001b[0m\u001b[0;34m\u001b[0m\u001b[0;34m\u001b[0m\u001b[0m\n\u001b[1;32m   2099\u001b[0m                 \u001b[0mseed\u001b[0m \u001b[0;34m=\u001b[0m \u001b[0mtf\u001b[0m\u001b[0;34m.\u001b[0m\u001b[0mrandom\u001b[0m\u001b[0;34m.\u001b[0m\u001b[0mexperimental\u001b[0m\u001b[0;34m.\u001b[0m\u001b[0mstateless_fold_in\u001b[0m\u001b[0;34m(\u001b[0m\u001b[0mseed\u001b[0m\u001b[0;34m,\u001b[0m \u001b[0mnonce\u001b[0m\u001b[0;34m)\u001b[0m\u001b[0;34m\u001b[0m\u001b[0;34m\u001b[0m\u001b[0m\n\u001b[0;32m-> 2100\u001b[0;31m             return tf.random.stateless_uniform(\n\u001b[0m\u001b[1;32m   2101\u001b[0m                 \u001b[0mshape\u001b[0m\u001b[0;34m=\u001b[0m\u001b[0mshape\u001b[0m\u001b[0;34m,\u001b[0m\u001b[0;34m\u001b[0m\u001b[0;34m\u001b[0m\u001b[0m\n\u001b[1;32m   2102\u001b[0m                 \u001b[0mminval\u001b[0m\u001b[0;34m=\u001b[0m\u001b[0mminval\u001b[0m\u001b[0;34m,\u001b[0m\u001b[0;34m\u001b[0m\u001b[0;34m\u001b[0m\u001b[0m\n",
            "\u001b[0;31mResourceExhaustedError\u001b[0m: {{function_node __wrapped__StatelessRandomUniformV2_device_/job:localhost/replica:0/task:0/device:GPU:0}} OOM when allocating tensor with shape[86528,4096] and type float on /job:localhost/replica:0/task:0/device:GPU:0 by allocator GPU_0_bfc [Op:StatelessRandomUniformV2] name: "
          ]
        }
      ]
    },
    {
      "cell_type": "code",
      "source": [
        "model.summary()"
      ],
      "metadata": {
        "colab": {
          "base_uri": "https://localhost:8080/"
        },
        "id": "8_4PAlnNLs_J",
        "outputId": "921176e7-e40c-40cf-d5cb-d3fe96acdab0"
      },
      "execution_count": 52,
      "outputs": [
        {
          "output_type": "stream",
          "name": "stdout",
          "text": [
            "Model: \"sequential_4\"\n",
            "_________________________________________________________________\n",
            " Layer (type)                Output Shape              Param #   \n",
            "=================================================================\n",
            " conv2d_9 (Conv2D)           (None, 222, 222, 64)      1792      \n",
            "                                                                 \n",
            " batch_normalization (Batch  (None, 222, 222, 64)      256       \n",
            " Normalization)                                                  \n",
            "                                                                 \n",
            " conv2d_10 (Conv2D)          (None, 222, 222, 64)      36928     \n",
            "                                                                 \n",
            " max_pooling2d_4 (MaxPoolin  (None, 111, 111, 64)      0         \n",
            " g2D)                                                            \n",
            "                                                                 \n",
            " conv2d_11 (Conv2D)          (None, 111, 111, 128)     73856     \n",
            "                                                                 \n",
            " conv2d_12 (Conv2D)          (None, 111, 111, 128)     147584    \n",
            "                                                                 \n",
            " batch_normalization_1 (Bat  (None, 111, 111, 128)     512       \n",
            " chNormalization)                                                \n",
            "                                                                 \n",
            " max_pooling2d_5 (MaxPoolin  (None, 55, 55, 128)       0         \n",
            " g2D)                                                            \n",
            "                                                                 \n",
            " dropout (Dropout)           (None, 55, 55, 128)       0         \n",
            "                                                                 \n",
            " conv2d_13 (Conv2D)          (None, 55, 55, 256)       295168    \n",
            "                                                                 \n",
            " conv2d_14 (Conv2D)          (None, 55, 55, 256)       590080    \n",
            "                                                                 \n",
            " batch_normalization_2 (Bat  (None, 55, 55, 256)       1024      \n",
            " chNormalization)                                                \n",
            "                                                                 \n",
            " max_pooling2d_6 (MaxPoolin  (None, 27, 27, 256)       0         \n",
            " g2D)                                                            \n",
            "                                                                 \n",
            " dropout_1 (Dropout)         (None, 27, 27, 256)       0         \n",
            "                                                                 \n",
            " conv2d_15 (Conv2D)          (None, 27, 27, 512)       1180160   \n",
            "                                                                 \n",
            " conv2d_16 (Conv2D)          (None, 27, 27, 512)       2359808   \n",
            "                                                                 \n",
            " batch_normalization_3 (Bat  (None, 27, 27, 512)       2048      \n",
            " chNormalization)                                                \n",
            "                                                                 \n",
            " max_pooling2d_7 (MaxPoolin  (None, 13, 13, 512)       0         \n",
            " g2D)                                                            \n",
            "                                                                 \n",
            " dropout_2 (Dropout)         (None, 13, 13, 512)       0         \n",
            "                                                                 \n",
            " flatten_1 (Flatten)         (None, 86528)             0         \n",
            "                                                                 \n",
            " dense_3 (Dense)             (None, 4096)              354422784 \n",
            "                                                                 \n",
            " batch_normalization_4 (Bat  (None, 4096)              16384     \n",
            " chNormalization)                                                \n",
            "                                                                 \n",
            " dense_4 (Dense)             (None, 4096)              16781312  \n",
            "                                                                 \n",
            " batch_normalization_5 (Bat  (None, 4096)              16384     \n",
            " chNormalization)                                                \n",
            "                                                                 \n",
            " dense_5 (Dense)             (None, 102)               417894    \n",
            "                                                                 \n",
            "=================================================================\n",
            "Total params: 376343974 (1.40 GB)\n",
            "Trainable params: 376325670 (1.40 GB)\n",
            "Non-trainable params: 18304 (71.50 KB)\n",
            "_________________________________________________________________\n"
          ]
        }
      ]
    },
    {
      "cell_type": "code",
      "source": [
        "model.compile(optimizer='adam',loss='sparse_categorical_crossentropy',metrics=['accuracy'])"
      ],
      "metadata": {
        "id": "NrZyGN1mLs-Y"
      },
      "execution_count": 53,
      "outputs": []
    },
    {
      "cell_type": "code",
      "source": [
        "history = model.fit(train_ds,epochs=5,validation_data=validation_ds)"
      ],
      "metadata": {
        "colab": {
          "base_uri": "https://localhost:8080/",
          "height": 1000
        },
        "id": "wQxYp1zQMv2X",
        "outputId": "116f59d8-47e7-42ed-8f7e-10db46bfe901"
      },
      "execution_count": 55,
      "outputs": [
        {
          "output_type": "stream",
          "name": "stdout",
          "text": [
            "Epoch 1/5\n"
          ]
        },
        {
          "output_type": "error",
          "ename": "ResourceExhaustedError",
          "evalue": "Graph execution error:\n\nDetected at node sequential_4/conv2d_10/Relu defined at (most recent call last):\n  File \"/usr/lib/python3.10/runpy.py\", line 196, in _run_module_as_main\n\n  File \"/usr/lib/python3.10/runpy.py\", line 86, in _run_code\n\n  File \"/usr/local/lib/python3.10/dist-packages/colab_kernel_launcher.py\", line 37, in <module>\n\n  File \"/usr/local/lib/python3.10/dist-packages/traitlets/config/application.py\", line 992, in launch_instance\n\n  File \"/usr/local/lib/python3.10/dist-packages/ipykernel/kernelapp.py\", line 619, in start\n\n  File \"/usr/local/lib/python3.10/dist-packages/tornado/platform/asyncio.py\", line 195, in start\n\n  File \"/usr/lib/python3.10/asyncio/base_events.py\", line 603, in run_forever\n\n  File \"/usr/lib/python3.10/asyncio/base_events.py\", line 1909, in _run_once\n\n  File \"/usr/lib/python3.10/asyncio/events.py\", line 80, in _run\n\n  File \"/usr/local/lib/python3.10/dist-packages/tornado/ioloop.py\", line 685, in <lambda>\n\n  File \"/usr/local/lib/python3.10/dist-packages/tornado/ioloop.py\", line 738, in _run_callback\n\n  File \"/usr/local/lib/python3.10/dist-packages/tornado/gen.py\", line 825, in inner\n\n  File \"/usr/local/lib/python3.10/dist-packages/tornado/gen.py\", line 786, in run\n\n  File \"/usr/local/lib/python3.10/dist-packages/ipykernel/kernelbase.py\", line 361, in process_one\n\n  File \"/usr/local/lib/python3.10/dist-packages/tornado/gen.py\", line 234, in wrapper\n\n  File \"/usr/local/lib/python3.10/dist-packages/ipykernel/kernelbase.py\", line 261, in dispatch_shell\n\n  File \"/usr/local/lib/python3.10/dist-packages/tornado/gen.py\", line 234, in wrapper\n\n  File \"/usr/local/lib/python3.10/dist-packages/ipykernel/kernelbase.py\", line 539, in execute_request\n\n  File \"/usr/local/lib/python3.10/dist-packages/tornado/gen.py\", line 234, in wrapper\n\n  File \"/usr/local/lib/python3.10/dist-packages/ipykernel/ipkernel.py\", line 302, in do_execute\n\n  File \"/usr/local/lib/python3.10/dist-packages/ipykernel/zmqshell.py\", line 539, in run_cell\n\n  File \"/usr/local/lib/python3.10/dist-packages/IPython/core/interactiveshell.py\", line 2975, in run_cell\n\n  File \"/usr/local/lib/python3.10/dist-packages/IPython/core/interactiveshell.py\", line 3030, in _run_cell\n\n  File \"/usr/local/lib/python3.10/dist-packages/IPython/core/async_helpers.py\", line 78, in _pseudo_sync_runner\n\n  File \"/usr/local/lib/python3.10/dist-packages/IPython/core/interactiveshell.py\", line 3257, in run_cell_async\n\n  File \"/usr/local/lib/python3.10/dist-packages/IPython/core/interactiveshell.py\", line 3473, in run_ast_nodes\n\n  File \"/usr/local/lib/python3.10/dist-packages/IPython/core/interactiveshell.py\", line 3553, in run_code\n\n  File \"<ipython-input-54-a7de653eef03>\", line 1, in <cell line: 1>\n\n  File \"/usr/local/lib/python3.10/dist-packages/keras/src/utils/traceback_utils.py\", line 65, in error_handler\n\n  File \"/usr/local/lib/python3.10/dist-packages/keras/src/engine/training.py\", line 1807, in fit\n\n  File \"/usr/local/lib/python3.10/dist-packages/keras/src/engine/training.py\", line 1401, in train_function\n\n  File \"/usr/local/lib/python3.10/dist-packages/keras/src/engine/training.py\", line 1384, in step_function\n\n  File \"/usr/local/lib/python3.10/dist-packages/keras/src/engine/training.py\", line 1373, in run_step\n\n  File \"/usr/local/lib/python3.10/dist-packages/keras/src/engine/training.py\", line 1150, in train_step\n\n  File \"/usr/local/lib/python3.10/dist-packages/keras/src/utils/traceback_utils.py\", line 65, in error_handler\n\n  File \"/usr/local/lib/python3.10/dist-packages/keras/src/engine/training.py\", line 590, in __call__\n\n  File \"/usr/local/lib/python3.10/dist-packages/keras/src/utils/traceback_utils.py\", line 65, in error_handler\n\n  File \"/usr/local/lib/python3.10/dist-packages/keras/src/engine/base_layer.py\", line 1149, in __call__\n\n  File \"/usr/local/lib/python3.10/dist-packages/keras/src/utils/traceback_utils.py\", line 96, in error_handler\n\n  File \"/usr/local/lib/python3.10/dist-packages/keras/src/engine/sequential.py\", line 398, in call\n\n  File \"/usr/local/lib/python3.10/dist-packages/keras/src/engine/functional.py\", line 515, in call\n\n  File \"/usr/local/lib/python3.10/dist-packages/keras/src/engine/functional.py\", line 672, in _run_internal_graph\n\n  File \"/usr/local/lib/python3.10/dist-packages/keras/src/utils/traceback_utils.py\", line 65, in error_handler\n\n  File \"/usr/local/lib/python3.10/dist-packages/keras/src/engine/base_layer.py\", line 1149, in __call__\n\n  File \"/usr/local/lib/python3.10/dist-packages/keras/src/utils/traceback_utils.py\", line 96, in error_handler\n\n  File \"/usr/local/lib/python3.10/dist-packages/keras/src/layers/convolutional/base_conv.py\", line 321, in call\n\n  File \"/usr/local/lib/python3.10/dist-packages/keras/src/activations.py\", line 306, in relu\n\n  File \"/usr/local/lib/python3.10/dist-packages/keras/src/backend.py\", line 5395, in relu\n\nOOM when allocating tensor with shape[32,64,222,222] and type float on /job:localhost/replica:0/task:0/device:GPU:0 by allocator GPU_0_bfc\n\t [[{{node sequential_4/conv2d_10/Relu}}]]\nHint: If you want to see a list of allocated tensors when OOM happens, add report_tensor_allocations_upon_oom to RunOptions for current allocation info. This isn't available when running in Eager mode.\n [Op:__inference_train_function_13490]",
          "traceback": [
            "\u001b[0;31m---------------------------------------------------------------------------\u001b[0m",
            "\u001b[0;31mResourceExhaustedError\u001b[0m                    Traceback (most recent call last)",
            "\u001b[0;32m<ipython-input-55-a7de653eef03>\u001b[0m in \u001b[0;36m<cell line: 1>\u001b[0;34m()\u001b[0m\n\u001b[0;32m----> 1\u001b[0;31m \u001b[0mhistory\u001b[0m \u001b[0;34m=\u001b[0m \u001b[0mmodel\u001b[0m\u001b[0;34m.\u001b[0m\u001b[0mfit\u001b[0m\u001b[0;34m(\u001b[0m\u001b[0mtrain_ds\u001b[0m\u001b[0;34m,\u001b[0m\u001b[0mepochs\u001b[0m\u001b[0;34m=\u001b[0m\u001b[0;36m5\u001b[0m\u001b[0;34m,\u001b[0m\u001b[0mvalidation_data\u001b[0m\u001b[0;34m=\u001b[0m\u001b[0mvalidation_ds\u001b[0m\u001b[0;34m)\u001b[0m\u001b[0;34m\u001b[0m\u001b[0;34m\u001b[0m\u001b[0m\n\u001b[0m",
            "\u001b[0;32m/usr/local/lib/python3.10/dist-packages/keras/src/utils/traceback_utils.py\u001b[0m in \u001b[0;36merror_handler\u001b[0;34m(*args, **kwargs)\u001b[0m\n\u001b[1;32m     68\u001b[0m             \u001b[0;31m# To get the full stack trace, call:\u001b[0m\u001b[0;34m\u001b[0m\u001b[0;34m\u001b[0m\u001b[0m\n\u001b[1;32m     69\u001b[0m             \u001b[0;31m# `tf.debugging.disable_traceback_filtering()`\u001b[0m\u001b[0;34m\u001b[0m\u001b[0;34m\u001b[0m\u001b[0m\n\u001b[0;32m---> 70\u001b[0;31m             \u001b[0;32mraise\u001b[0m \u001b[0me\u001b[0m\u001b[0;34m.\u001b[0m\u001b[0mwith_traceback\u001b[0m\u001b[0;34m(\u001b[0m\u001b[0mfiltered_tb\u001b[0m\u001b[0;34m)\u001b[0m \u001b[0;32mfrom\u001b[0m \u001b[0;32mNone\u001b[0m\u001b[0;34m\u001b[0m\u001b[0;34m\u001b[0m\u001b[0m\n\u001b[0m\u001b[1;32m     71\u001b[0m         \u001b[0;32mfinally\u001b[0m\u001b[0;34m:\u001b[0m\u001b[0;34m\u001b[0m\u001b[0;34m\u001b[0m\u001b[0m\n\u001b[1;32m     72\u001b[0m             \u001b[0;32mdel\u001b[0m \u001b[0mfiltered_tb\u001b[0m\u001b[0;34m\u001b[0m\u001b[0;34m\u001b[0m\u001b[0m\n",
            "\u001b[0;32m/usr/local/lib/python3.10/dist-packages/tensorflow/python/eager/execute.py\u001b[0m in \u001b[0;36mquick_execute\u001b[0;34m(op_name, num_outputs, inputs, attrs, ctx, name)\u001b[0m\n\u001b[1;32m     51\u001b[0m   \u001b[0;32mtry\u001b[0m\u001b[0;34m:\u001b[0m\u001b[0;34m\u001b[0m\u001b[0;34m\u001b[0m\u001b[0m\n\u001b[1;32m     52\u001b[0m     \u001b[0mctx\u001b[0m\u001b[0;34m.\u001b[0m\u001b[0mensure_initialized\u001b[0m\u001b[0;34m(\u001b[0m\u001b[0;34m)\u001b[0m\u001b[0;34m\u001b[0m\u001b[0;34m\u001b[0m\u001b[0m\n\u001b[0;32m---> 53\u001b[0;31m     tensors = pywrap_tfe.TFE_Py_Execute(ctx._handle, device_name, op_name,\n\u001b[0m\u001b[1;32m     54\u001b[0m                                         inputs, attrs, num_outputs)\n\u001b[1;32m     55\u001b[0m   \u001b[0;32mexcept\u001b[0m \u001b[0mcore\u001b[0m\u001b[0;34m.\u001b[0m\u001b[0m_NotOkStatusException\u001b[0m \u001b[0;32mas\u001b[0m \u001b[0me\u001b[0m\u001b[0;34m:\u001b[0m\u001b[0;34m\u001b[0m\u001b[0;34m\u001b[0m\u001b[0m\n",
            "\u001b[0;31mResourceExhaustedError\u001b[0m: Graph execution error:\n\nDetected at node sequential_4/conv2d_10/Relu defined at (most recent call last):\n  File \"/usr/lib/python3.10/runpy.py\", line 196, in _run_module_as_main\n\n  File \"/usr/lib/python3.10/runpy.py\", line 86, in _run_code\n\n  File \"/usr/local/lib/python3.10/dist-packages/colab_kernel_launcher.py\", line 37, in <module>\n\n  File \"/usr/local/lib/python3.10/dist-packages/traitlets/config/application.py\", line 992, in launch_instance\n\n  File \"/usr/local/lib/python3.10/dist-packages/ipykernel/kernelapp.py\", line 619, in start\n\n  File \"/usr/local/lib/python3.10/dist-packages/tornado/platform/asyncio.py\", line 195, in start\n\n  File \"/usr/lib/python3.10/asyncio/base_events.py\", line 603, in run_forever\n\n  File \"/usr/lib/python3.10/asyncio/base_events.py\", line 1909, in _run_once\n\n  File \"/usr/lib/python3.10/asyncio/events.py\", line 80, in _run\n\n  File \"/usr/local/lib/python3.10/dist-packages/tornado/ioloop.py\", line 685, in <lambda>\n\n  File \"/usr/local/lib/python3.10/dist-packages/tornado/ioloop.py\", line 738, in _run_callback\n\n  File \"/usr/local/lib/python3.10/dist-packages/tornado/gen.py\", line 825, in inner\n\n  File \"/usr/local/lib/python3.10/dist-packages/tornado/gen.py\", line 786, in run\n\n  File \"/usr/local/lib/python3.10/dist-packages/ipykernel/kernelbase.py\", line 361, in process_one\n\n  File \"/usr/local/lib/python3.10/dist-packages/tornado/gen.py\", line 234, in wrapper\n\n  File \"/usr/local/lib/python3.10/dist-packages/ipykernel/kernelbase.py\", line 261, in dispatch_shell\n\n  File \"/usr/local/lib/python3.10/dist-packages/tornado/gen.py\", line 234, in wrapper\n\n  File \"/usr/local/lib/python3.10/dist-packages/ipykernel/kernelbase.py\", line 539, in execute_request\n\n  File \"/usr/local/lib/python3.10/dist-packages/tornado/gen.py\", line 234, in wrapper\n\n  File \"/usr/local/lib/python3.10/dist-packages/ipykernel/ipkernel.py\", line 302, in do_execute\n\n  File \"/usr/local/lib/python3.10/dist-packages/ipykernel/zmqshell.py\", line 539, in run_cell\n\n  File \"/usr/local/lib/python3.10/dist-packages/IPython/core/interactiveshell.py\", line 2975, in run_cell\n\n  File \"/usr/local/lib/python3.10/dist-packages/IPython/core/interactiveshell.py\", line 3030, in _run_cell\n\n  File \"/usr/local/lib/python3.10/dist-packages/IPython/core/async_helpers.py\", line 78, in _pseudo_sync_runner\n\n  File \"/usr/local/lib/python3.10/dist-packages/IPython/core/interactiveshell.py\", line 3257, in run_cell_async\n\n  File \"/usr/local/lib/python3.10/dist-packages/IPython/core/interactiveshell.py\", line 3473, in run_ast_nodes\n\n  File \"/usr/local/lib/python3.10/dist-packages/IPython/core/interactiveshell.py\", line 3553, in run_code\n\n  File \"<ipython-input-54-a7de653eef03>\", line 1, in <cell line: 1>\n\n  File \"/usr/local/lib/python3.10/dist-packages/keras/src/utils/traceback_utils.py\", line 65, in error_handler\n\n  File \"/usr/local/lib/python3.10/dist-packages/keras/src/engine/training.py\", line 1807, in fit\n\n  File \"/usr/local/lib/python3.10/dist-packages/keras/src/engine/training.py\", line 1401, in train_function\n\n  File \"/usr/local/lib/python3.10/dist-packages/keras/src/engine/training.py\", line 1384, in step_function\n\n  File \"/usr/local/lib/python3.10/dist-packages/keras/src/engine/training.py\", line 1373, in run_step\n\n  File \"/usr/local/lib/python3.10/dist-packages/keras/src/engine/training.py\", line 1150, in train_step\n\n  File \"/usr/local/lib/python3.10/dist-packages/keras/src/utils/traceback_utils.py\", line 65, in error_handler\n\n  File \"/usr/local/lib/python3.10/dist-packages/keras/src/engine/training.py\", line 590, in __call__\n\n  File \"/usr/local/lib/python3.10/dist-packages/keras/src/utils/traceback_utils.py\", line 65, in error_handler\n\n  File \"/usr/local/lib/python3.10/dist-packages/keras/src/engine/base_layer.py\", line 1149, in __call__\n\n  File \"/usr/local/lib/python3.10/dist-packages/keras/src/utils/traceback_utils.py\", line 96, in error_handler\n\n  File \"/usr/local/lib/python3.10/dist-packages/keras/src/engine/sequential.py\", line 398, in call\n\n  File \"/usr/local/lib/python3.10/dist-packages/keras/src/engine/functional.py\", line 515, in call\n\n  File \"/usr/local/lib/python3.10/dist-packages/keras/src/engine/functional.py\", line 672, in _run_internal_graph\n\n  File \"/usr/local/lib/python3.10/dist-packages/keras/src/utils/traceback_utils.py\", line 65, in error_handler\n\n  File \"/usr/local/lib/python3.10/dist-packages/keras/src/engine/base_layer.py\", line 1149, in __call__\n\n  File \"/usr/local/lib/python3.10/dist-packages/keras/src/utils/traceback_utils.py\", line 96, in error_handler\n\n  File \"/usr/local/lib/python3.10/dist-packages/keras/src/layers/convolutional/base_conv.py\", line 321, in call\n\n  File \"/usr/local/lib/python3.10/dist-packages/keras/src/activations.py\", line 306, in relu\n\n  File \"/usr/local/lib/python3.10/dist-packages/keras/src/backend.py\", line 5395, in relu\n\nOOM when allocating tensor with shape[32,64,222,222] and type float on /job:localhost/replica:0/task:0/device:GPU:0 by allocator GPU_0_bfc\n\t [[{{node sequential_4/conv2d_10/Relu}}]]\nHint: If you want to see a list of allocated tensors when OOM happens, add report_tensor_allocations_upon_oom to RunOptions for current allocation info. This isn't available when running in Eager mode.\n [Op:__inference_train_function_13490]"
          ]
        }
      ]
    },
    {
      "cell_type": "code",
      "source": [
        "import matplotlib.pyplot as plt\n",
        "plt.plot(history.history['accuracy'])\n",
        "plt.plot(history.history['val_accuracy'])\n",
        "plt.title('model accuracy')\n",
        "plt.ylabel('accuracy')\n",
        "plt.xlabel('epoch')\n",
        "plt.legend(['train', 'validation'], loc='upper left')\n",
        "plt.show()"
      ],
      "metadata": {
        "colab": {
          "base_uri": "https://localhost:8080/",
          "height": 211
        },
        "id": "TH1sKi9aMv1d",
        "outputId": "fd4fc27c-6bdd-4b42-8d15-a5b44b501f2f"
      },
      "execution_count": 45,
      "outputs": [
        {
          "output_type": "error",
          "ename": "NameError",
          "evalue": "name 'history' is not defined",
          "traceback": [
            "\u001b[0;31m---------------------------------------------------------------------------\u001b[0m",
            "\u001b[0;31mNameError\u001b[0m                                 Traceback (most recent call last)",
            "\u001b[0;32m<ipython-input-45-38951eaadd5f>\u001b[0m in \u001b[0;36m<cell line: 2>\u001b[0;34m()\u001b[0m\n\u001b[1;32m      1\u001b[0m \u001b[0;32mimport\u001b[0m \u001b[0mmatplotlib\u001b[0m\u001b[0;34m.\u001b[0m\u001b[0mpyplot\u001b[0m \u001b[0;32mas\u001b[0m \u001b[0mplt\u001b[0m\u001b[0;34m\u001b[0m\u001b[0;34m\u001b[0m\u001b[0m\n\u001b[0;32m----> 2\u001b[0;31m \u001b[0mplt\u001b[0m\u001b[0;34m.\u001b[0m\u001b[0mplot\u001b[0m\u001b[0;34m(\u001b[0m\u001b[0mhistory\u001b[0m\u001b[0;34m[\u001b[0m\u001b[0;34m'accuracy'\u001b[0m\u001b[0;34m]\u001b[0m\u001b[0;34m)\u001b[0m\u001b[0;34m\u001b[0m\u001b[0;34m\u001b[0m\u001b[0m\n\u001b[0m\u001b[1;32m      3\u001b[0m \u001b[0mplt\u001b[0m\u001b[0;34m.\u001b[0m\u001b[0mplot\u001b[0m\u001b[0;34m(\u001b[0m\u001b[0mhistory\u001b[0m\u001b[0;34m[\u001b[0m\u001b[0;34m'val_accuracy'\u001b[0m\u001b[0;34m]\u001b[0m\u001b[0;34m)\u001b[0m\u001b[0;34m\u001b[0m\u001b[0;34m\u001b[0m\u001b[0m\n\u001b[1;32m      4\u001b[0m \u001b[0mplt\u001b[0m\u001b[0;34m.\u001b[0m\u001b[0mtitle\u001b[0m\u001b[0;34m(\u001b[0m\u001b[0;34m'model accuracy'\u001b[0m\u001b[0;34m)\u001b[0m\u001b[0;34m\u001b[0m\u001b[0;34m\u001b[0m\u001b[0m\n\u001b[1;32m      5\u001b[0m \u001b[0mplt\u001b[0m\u001b[0;34m.\u001b[0m\u001b[0mylabel\u001b[0m\u001b[0;34m(\u001b[0m\u001b[0;34m'accuracy'\u001b[0m\u001b[0;34m)\u001b[0m\u001b[0;34m\u001b[0m\u001b[0;34m\u001b[0m\u001b[0m\n",
            "\u001b[0;31mNameError\u001b[0m: name 'history' is not defined"
          ]
        }
      ]
    },
    {
      "cell_type": "code",
      "source": [
        "## Vgg Pretrained\n",
        "import gdown\n",
        "url = \"https://drive.google.com/file/d/12jiQxJzYSYl3wnC8x5wHAhRzzJmmsCXP/view?usp=sharing\"\n",
        "file_id = url.split(\"/\")[-2]\n",
        "print(file_id)\n",
        "prefix = 'https://drive.google.com/uc?/export=download&id='\n",
        "gdown.download(prefix+file_id, \"catdog.zip\")"
      ],
      "metadata": {
        "colab": {
          "base_uri": "https://localhost:8080/",
          "height": 142
        },
        "id": "rpvfuK-3O3X5",
        "outputId": "061702c5-4380-4fcf-e0a6-ea8d94d4638e"
      },
      "execution_count": 46,
      "outputs": [
        {
          "output_type": "stream",
          "name": "stdout",
          "text": [
            "12jiQxJzYSYl3wnC8x5wHAhRzzJmmsCXP\n"
          ]
        },
        {
          "output_type": "stream",
          "name": "stderr",
          "text": [
            "Downloading...\n",
            "From: https://drive.google.com/uc?/export=download&id=12jiQxJzYSYl3wnC8x5wHAhRzzJmmsCXP\n",
            "To: /content/catdog.zip\n",
            "100%|██████████| 9.09M/9.09M [00:00<00:00, 37.0MB/s]\n"
          ]
        },
        {
          "output_type": "execute_result",
          "data": {
            "text/plain": [
              "'catdog.zip'"
            ],
            "application/vnd.google.colaboratory.intrinsic+json": {
              "type": "string"
            }
          },
          "metadata": {},
          "execution_count": 46
        }
      ]
    },
    {
      "cell_type": "code",
      "source": [
        "!unzip catdog.zip"
      ],
      "metadata": {
        "colab": {
          "base_uri": "https://localhost:8080/"
        },
        "id": "jxaYDZ_fPSfa",
        "outputId": "57f5a9f7-3b3c-46c8-8f40-ca69553ac5f2"
      },
      "execution_count": 47,
      "outputs": [
        {
          "output_type": "stream",
          "name": "stdout",
          "text": [
            "Archive:  catdog.zip\n",
            "   creating: train/\n",
            "   creating: train/Cat/\n",
            "  inflating: train/Cat/0.jpg         \n",
            "  inflating: train/Cat/1.jpg         \n",
            "  inflating: train/Cat/2.jpg         \n",
            "  inflating: train/Cat/cat.2405.jpg  \n",
            "  inflating: train/Cat/cat.2406.jpg  \n",
            "  inflating: train/Cat/cat.2436.jpg  \n",
            "  inflating: train/Cat/cat.2437.jpg  \n",
            "  inflating: train/Cat/cat.2438.jpg  \n",
            "  inflating: train/Cat/cat.2439.jpg  \n",
            "  inflating: train/Cat/cat.2440.jpg  \n",
            "  inflating: train/Cat/cat.2441.jpg  \n",
            "  inflating: train/Cat/cat.2442.jpg  \n",
            "  inflating: train/Cat/cat.2443.jpg  \n",
            "  inflating: train/Cat/cat.2444.jpg  \n",
            "  inflating: train/Cat/cat.2445.jpg  \n",
            "  inflating: train/Cat/cat.2446.jpg  \n",
            "  inflating: train/Cat/cat.2447.jpg  \n",
            "  inflating: train/Cat/cat.2448.jpg  \n",
            "  inflating: train/Cat/cat.2449.jpg  \n",
            "  inflating: train/Cat/cat.2450.jpg  \n",
            "  inflating: train/Cat/cat.2451.jpg  \n",
            "  inflating: train/Cat/cat.2452.jpg  \n",
            "  inflating: train/Cat/cat.2453.jpg  \n",
            "  inflating: train/Cat/cat.2454.jpg  \n",
            "  inflating: train/Cat/cat.2455.jpg  \n",
            "  inflating: train/Cat/cat.2456.jpg  \n",
            "  inflating: train/Cat/cat.2457.jpg  \n",
            "  inflating: train/Cat/cat.2458.jpg  \n",
            "  inflating: train/Cat/cat.2459.jpg  \n",
            "  inflating: train/Cat/cat.2460.jpg  \n",
            "  inflating: train/Cat/cat.2461.jpg  \n",
            "  inflating: train/Cat/cat.2462.jpg  \n",
            "  inflating: train/Cat/cat.2463.jpg  \n",
            "  inflating: train/Cat/cat.2464.jpg  \n",
            "  inflating: train/Cat/cat.855.jpg   \n",
            "  inflating: train/Cat/cat.856.jpg   \n",
            "  inflating: train/Cat/cat.857.jpg   \n",
            "  inflating: train/Cat/cat.858.jpg   \n",
            "  inflating: train/Cat/cat.859.jpg   \n",
            "  inflating: train/Cat/cat.86.jpg    \n",
            "  inflating: train/Cat/cat.860.jpg   \n",
            "  inflating: train/Cat/cat.861.jpg   \n",
            "  inflating: train/Cat/cat.862.jpg   \n",
            "  inflating: train/Cat/cat.863.jpg   \n",
            "  inflating: train/Cat/cat.864.jpg   \n",
            "  inflating: train/Cat/cat.865.jpg   \n",
            "  inflating: train/Cat/cat.866.jpg   \n",
            "  inflating: train/Cat/cat.867.jpg   \n",
            "  inflating: train/Cat/cat.868.jpg   \n",
            "  inflating: train/Cat/cat.869.jpg   \n",
            "  inflating: train/Cat/cat.87.jpg    \n",
            "  inflating: train/Cat/cat.870.jpg   \n",
            "  inflating: train/Cat/cat.871.jpg   \n",
            "  inflating: train/Cat/cat.872.jpg   \n",
            "  inflating: train/Cat/cat.873.jpg   \n",
            "  inflating: train/Cat/cat.874.jpg   \n",
            "  inflating: train/Cat/cat.875.jpg   \n",
            "  inflating: train/Cat/cat.876.jpg   \n",
            "  inflating: train/Cat/cat.877.jpg   \n",
            "  inflating: train/Cat/cat.878.jpg   \n",
            "  inflating: train/Cat/cat.879.jpg   \n",
            "  inflating: train/Cat/cat.88.jpg    \n",
            "  inflating: train/Cat/cat.880.jpg   \n",
            "  inflating: train/Cat/cat.881.jpg   \n",
            "  inflating: train/Cat/cat.882.jpg   \n",
            "  inflating: train/Cat/cat.883.jpg   \n",
            "  inflating: train/Cat/cat.884.jpg   \n",
            "  inflating: train/Cat/cat.885.jpg   \n",
            "  inflating: train/Cat/cat.886.jpg   \n",
            "  inflating: train/Cat/cat.887.jpg   \n",
            "  inflating: train/Cat/cat.888.jpg   \n",
            "  inflating: train/Cat/cat.889.jpg   \n",
            "  inflating: train/Cat/cat.89.jpg    \n",
            "  inflating: train/Cat/cat.890.jpg   \n",
            "  inflating: train/Cat/cat.891.jpg   \n",
            "  inflating: train/Cat/cat.892.jpg   \n",
            "  inflating: train/Cat/cat.893.jpg   \n",
            "  inflating: train/Cat/cat.894.jpg   \n",
            "  inflating: train/Cat/cat.895.jpg   \n",
            "  inflating: train/Cat/cat.896.jpg   \n",
            "  inflating: train/Cat/cat.897.jpg   \n",
            "  inflating: train/Cat/cat.898.jpg   \n",
            "  inflating: train/Cat/cat.899.jpg   \n",
            "  inflating: train/Cat/cat.9.jpg     \n",
            "  inflating: train/Cat/cat.90.jpg    \n",
            "  inflating: train/Cat/cat.900.jpg   \n",
            "  inflating: train/Cat/cat.901.jpg   \n",
            "  inflating: train/Cat/cat.902.jpg   \n",
            "  inflating: train/Cat/cat.903.jpg   \n",
            "  inflating: train/Cat/cat.904.jpg   \n",
            "  inflating: train/Cat/cat.905.jpg   \n",
            "  inflating: train/Cat/cat.906.jpg   \n",
            "  inflating: train/Cat/cat.907.jpg   \n",
            "  inflating: train/Cat/cat.908.jpg   \n",
            "  inflating: train/Cat/cat.909.jpg   \n",
            "  inflating: train/Cat/cat.91.jpg    \n",
            "  inflating: train/Cat/cat.910.jpg   \n",
            "  inflating: train/Cat/cat.911.jpg   \n",
            "  inflating: train/Cat/cat.912.jpg   \n",
            "  inflating: train/Cat/cat.913.jpg   \n",
            "  inflating: train/Cat/cat.914.jpg   \n",
            "  inflating: train/Cat/cat.915.jpg   \n",
            "  inflating: train/Cat/cat.916.jpg   \n",
            "  inflating: train/Cat/cat.917.jpg   \n",
            "  inflating: train/Cat/cat.918.jpg   \n",
            "  inflating: train/Cat/cat.919.jpg   \n",
            "  inflating: train/Cat/cat.92.jpg    \n",
            "  inflating: train/Cat/cat.920.jpg   \n",
            "  inflating: train/Cat/cat.93.jpg    \n",
            "  inflating: train/Cat/cat.94.jpg    \n",
            "  inflating: train/Cat/cat.946.jpg   \n",
            "  inflating: train/Cat/cat.947.jpg   \n",
            "  inflating: train/Cat/cat.948.jpg   \n",
            "  inflating: train/Cat/cat.949.jpg   \n",
            "  inflating: train/Cat/cat.95.jpg    \n",
            "  inflating: train/Cat/cat.950.jpg   \n",
            "  inflating: train/Cat/cat.951.jpg   \n",
            "  inflating: train/Cat/cat.952.jpg   \n",
            "  inflating: train/Cat/cat.953.jpg   \n",
            "  inflating: train/Cat/cat.954.jpg   \n",
            "  inflating: train/Cat/cat.955.jpg   \n",
            "  inflating: train/Cat/cat.956.jpg   \n",
            "  inflating: train/Cat/cat.957.jpg   \n",
            "  inflating: train/Cat/cat.958.jpg   \n",
            "  inflating: train/Cat/cat.959.jpg   \n",
            "  inflating: train/Cat/cat.96.jpg    \n",
            "  inflating: train/Cat/cat.960.jpg   \n",
            "  inflating: train/Cat/cat.961.jpg   \n",
            "  inflating: train/Cat/cat.962.jpg   \n",
            "  inflating: train/Cat/cat.963.jpg   \n",
            "  inflating: train/Cat/cat.964.jpg   \n",
            "  inflating: train/Cat/cat.965.jpg   \n",
            "  inflating: train/Cat/cat.966.jpg   \n",
            "  inflating: train/Cat/cat.967.jpg   \n",
            "  inflating: train/Cat/cat.968.jpg   \n",
            "  inflating: train/Cat/cat.969.jpg   \n",
            "  inflating: train/Cat/cat.97.jpg    \n",
            "  inflating: train/Cat/cat.970.jpg   \n",
            "  inflating: train/Cat/cat.971.jpg   \n",
            "  inflating: train/Cat/cat.972.jpg   \n",
            "  inflating: train/Cat/cat.973.jpg   \n",
            "  inflating: train/Cat/cat.974.jpg   \n",
            "  inflating: train/Cat/cat.975.jpg   \n",
            "  inflating: train/Cat/cat.976.jpg   \n",
            "  inflating: train/Cat/cat.977.jpg   \n",
            "  inflating: train/Cat/cat.978.jpg   \n",
            "  inflating: train/Cat/cat.979.jpg   \n",
            "  inflating: train/Cat/cat.98.jpg    \n",
            "  inflating: train/Cat/cat.980.jpg   \n",
            "  inflating: train/Cat/cat.981.jpg   \n",
            "  inflating: train/Cat/cat.982.jpg   \n",
            "  inflating: train/Cat/cat.983.jpg   \n",
            "  inflating: train/Cat/cat.984.jpg   \n",
            "  inflating: train/Cat/cat.985.jpg   \n",
            "  inflating: train/Cat/cat.986.jpg   \n",
            "  inflating: train/Cat/cat.987.jpg   \n",
            "  inflating: train/Cat/cat.988.jpg   \n",
            "  inflating: train/Cat/cat.989.jpg   \n",
            "  inflating: train/Cat/cat.99.jpg    \n",
            "  inflating: train/Cat/cat.990.jpg   \n",
            "  inflating: train/Cat/cat.991.jpg   \n",
            "  inflating: train/Cat/cat.992.jpg   \n",
            "  inflating: train/Cat/cat.993.jpg   \n",
            "  inflating: train/Cat/cat.994.jpg   \n",
            "  inflating: train/Cat/cat.995.jpg   \n",
            "  inflating: train/Cat/cat.996.jpg   \n",
            "  inflating: train/Cat/cat.997.jpg   \n",
            "  inflating: train/Cat/cat.998.jpg   \n",
            "  inflating: train/Cat/cat.999.jpg   \n",
            "   creating: train/Dog/\n",
            "  inflating: train/Dog/10493.jpg     \n",
            "  inflating: train/Dog/11785.jpg     \n",
            "  inflating: train/Dog/9839.jpg      \n",
            "  inflating: train/Dog/dog.2432.jpg  \n",
            "  inflating: train/Dog/dog.2433.jpg  \n",
            "  inflating: train/Dog/dog.2434.jpg  \n",
            "  inflating: train/Dog/dog.2435.jpg  \n",
            "  inflating: train/Dog/dog.2436.jpg  \n",
            "  inflating: train/Dog/dog.2437.jpg  \n",
            "  inflating: train/Dog/dog.2438.jpg  \n",
            "  inflating: train/Dog/dog.2439.jpg  \n",
            "  inflating: train/Dog/dog.2440.jpg  \n",
            "  inflating: train/Dog/dog.2441.jpg  \n",
            "  inflating: train/Dog/dog.2442.jpg  \n",
            "  inflating: train/Dog/dog.2443.jpg  \n",
            "  inflating: train/Dog/dog.2444.jpg  \n",
            "  inflating: train/Dog/dog.2445.jpg  \n",
            "  inflating: train/Dog/dog.2446.jpg  \n",
            "  inflating: train/Dog/dog.2447.jpg  \n",
            "  inflating: train/Dog/dog.2448.jpg  \n",
            "  inflating: train/Dog/dog.2449.jpg  \n",
            "  inflating: train/Dog/dog.2450.jpg  \n",
            "  inflating: train/Dog/dog.2451.jpg  \n",
            "  inflating: train/Dog/dog.2452.jpg  \n",
            "  inflating: train/Dog/dog.2453.jpg  \n",
            "  inflating: train/Dog/dog.2454.jpg  \n",
            "  inflating: train/Dog/dog.2455.jpg  \n",
            "  inflating: train/Dog/dog.2456.jpg  \n",
            "  inflating: train/Dog/dog.2457.jpg  \n",
            "  inflating: train/Dog/dog.2458.jpg  \n",
            "  inflating: train/Dog/dog.2459.jpg  \n",
            "  inflating: train/Dog/dog.2460.jpg  \n",
            "  inflating: train/Dog/dog.2461.jpg  \n",
            "  inflating: train/Dog/dog.844.jpg   \n",
            "  inflating: train/Dog/dog.845.jpg   \n",
            "  inflating: train/Dog/dog.846.jpg   \n",
            "  inflating: train/Dog/dog.847.jpg   \n",
            "  inflating: train/Dog/dog.848.jpg   \n",
            "  inflating: train/Dog/dog.849.jpg   \n",
            "  inflating: train/Dog/dog.85.jpg    \n",
            "  inflating: train/Dog/dog.850.jpg   \n",
            "  inflating: train/Dog/dog.851.jpg   \n",
            "  inflating: train/Dog/dog.852.jpg   \n",
            "  inflating: train/Dog/dog.853.jpg   \n",
            "  inflating: train/Dog/dog.854.jpg   \n",
            "  inflating: train/Dog/dog.855.jpg   \n",
            "  inflating: train/Dog/dog.856.jpg   \n",
            "  inflating: train/Dog/dog.857.jpg   \n",
            "  inflating: train/Dog/dog.858.jpg   \n",
            "  inflating: train/Dog/dog.859.jpg   \n",
            "  inflating: train/Dog/dog.86.jpg    \n",
            "  inflating: train/Dog/dog.860.jpg   \n",
            "  inflating: train/Dog/dog.861.jpg   \n",
            "  inflating: train/Dog/dog.862.jpg   \n",
            "  inflating: train/Dog/dog.863.jpg   \n",
            "  inflating: train/Dog/dog.864.jpg   \n",
            "  inflating: train/Dog/dog.865.jpg   \n",
            "  inflating: train/Dog/dog.866.jpg   \n",
            "  inflating: train/Dog/dog.867.jpg   \n",
            "  inflating: train/Dog/dog.868.jpg   \n",
            "  inflating: train/Dog/dog.869.jpg   \n",
            "  inflating: train/Dog/dog.87.jpg    \n",
            "  inflating: train/Dog/dog.870.jpg   \n",
            "  inflating: train/Dog/dog.871.jpg   \n",
            "  inflating: train/Dog/dog.872.jpg   \n",
            "  inflating: train/Dog/dog.873.jpg   \n",
            "  inflating: train/Dog/dog.874.jpg   \n",
            "  inflating: train/Dog/dog.875.jpg   \n",
            "  inflating: train/Dog/dog.876.jpg   \n",
            "  inflating: train/Dog/dog.877.jpg   \n",
            "  inflating: train/Dog/dog.878.jpg   \n",
            "  inflating: train/Dog/dog.879.jpg   \n",
            "  inflating: train/Dog/dog.88.jpg    \n",
            "  inflating: train/Dog/dog.880.jpg   \n",
            "  inflating: train/Dog/dog.881.jpg   \n",
            "  inflating: train/Dog/dog.882.jpg   \n",
            "  inflating: train/Dog/dog.883.jpg   \n",
            "  inflating: train/Dog/dog.884.jpg   \n",
            "  inflating: train/Dog/dog.885.jpg   \n",
            "  inflating: train/Dog/dog.886.jpg   \n",
            "  inflating: train/Dog/dog.887.jpg   \n",
            "  inflating: train/Dog/dog.888.jpg   \n",
            "  inflating: train/Dog/dog.889.jpg   \n",
            "  inflating: train/Dog/dog.89.jpg    \n",
            "  inflating: train/Dog/dog.890.jpg   \n",
            "  inflating: train/Dog/dog.891.jpg   \n",
            "  inflating: train/Dog/dog.892.jpg   \n",
            "  inflating: train/Dog/dog.893.jpg   \n",
            "  inflating: train/Dog/dog.894.jpg   \n",
            "  inflating: train/Dog/dog.895.jpg   \n",
            "  inflating: train/Dog/dog.896.jpg   \n",
            "  inflating: train/Dog/dog.897.jpg   \n",
            "  inflating: train/Dog/dog.898.jpg   \n",
            "  inflating: train/Dog/dog.9.jpg     \n",
            "  inflating: train/Dog/dog.90.jpg    \n",
            "  inflating: train/Dog/dog.91.jpg    \n",
            "  inflating: train/Dog/dog.92.jpg    \n",
            "  inflating: train/Dog/dog.93.jpg    \n",
            "  inflating: train/Dog/dog.936.jpg   \n",
            "  inflating: train/Dog/dog.937.jpg   \n",
            "  inflating: train/Dog/dog.938.jpg   \n",
            "  inflating: train/Dog/dog.939.jpg   \n",
            "  inflating: train/Dog/dog.94.jpg    \n",
            "  inflating: train/Dog/dog.940.jpg   \n",
            "  inflating: train/Dog/dog.941.jpg   \n",
            "  inflating: train/Dog/dog.942.jpg   \n",
            "  inflating: train/Dog/dog.943.jpg   \n",
            "  inflating: train/Dog/dog.944.jpg   \n",
            "  inflating: train/Dog/dog.945.jpg   \n",
            "  inflating: train/Dog/dog.946.jpg   \n",
            "  inflating: train/Dog/dog.947.jpg   \n",
            "  inflating: train/Dog/dog.948.jpg   \n",
            "  inflating: train/Dog/dog.949.jpg   \n",
            "  inflating: train/Dog/dog.95.jpg    \n",
            "  inflating: train/Dog/dog.950.jpg   \n",
            "  inflating: train/Dog/dog.951.jpg   \n",
            "  inflating: train/Dog/dog.952.jpg   \n",
            "  inflating: train/Dog/dog.953.jpg   \n",
            "  inflating: train/Dog/dog.954.jpg   \n",
            "  inflating: train/Dog/dog.955.jpg   \n",
            "  inflating: train/Dog/dog.956.jpg   \n",
            "  inflating: train/Dog/dog.957.jpg   \n",
            "  inflating: train/Dog/dog.958.jpg   \n",
            "  inflating: train/Dog/dog.959.jpg   \n",
            "  inflating: train/Dog/dog.96.jpg    \n",
            "  inflating: train/Dog/dog.960.jpg   \n",
            "  inflating: train/Dog/dog.961.jpg   \n",
            "  inflating: train/Dog/dog.962.jpg   \n",
            "  inflating: train/Dog/dog.963.jpg   \n",
            "  inflating: train/Dog/dog.964.jpg   \n",
            "  inflating: train/Dog/dog.965.jpg   \n",
            "  inflating: train/Dog/dog.966.jpg   \n",
            "  inflating: train/Dog/dog.967.jpg   \n",
            "  inflating: train/Dog/dog.968.jpg   \n",
            "  inflating: train/Dog/dog.969.jpg   \n",
            "  inflating: train/Dog/dog.97.jpg    \n",
            "  inflating: train/Dog/dog.970.jpg   \n",
            "  inflating: train/Dog/dog.971.jpg   \n",
            "  inflating: train/Dog/dog.972.jpg   \n",
            "  inflating: train/Dog/dog.973.jpg   \n",
            "  inflating: train/Dog/dog.974.jpg   \n",
            "  inflating: train/Dog/dog.975.jpg   \n",
            "  inflating: train/Dog/dog.976.jpg   \n",
            "  inflating: train/Dog/dog.977.jpg   \n",
            "  inflating: train/Dog/dog.978.jpg   \n",
            "  inflating: train/Dog/dog.979.jpg   \n",
            "  inflating: train/Dog/dog.98.jpg    \n",
            "  inflating: train/Dog/dog.980.jpg   \n",
            "  inflating: train/Dog/dog.981.jpg   \n",
            "  inflating: train/Dog/dog.982.jpg   \n",
            "  inflating: train/Dog/dog.983.jpg   \n",
            "  inflating: train/Dog/dog.984.jpg   \n",
            "  inflating: train/Dog/dog.985.jpg   \n",
            "  inflating: train/Dog/dog.986.jpg   \n",
            "  inflating: train/Dog/dog.987.jpg   \n",
            "  inflating: train/Dog/dog.988.jpg   \n",
            "  inflating: train/Dog/dog.989.jpg   \n",
            "  inflating: train/Dog/dog.99.jpg    \n",
            "  inflating: train/Dog/dog.990.jpg   \n",
            "  inflating: train/Dog/dog.991.jpg   \n",
            "  inflating: train/Dog/dog.992.jpg   \n",
            "  inflating: train/Dog/dog.993.jpg   \n",
            "  inflating: train/Dog/dog.994.jpg   \n",
            "  inflating: train/Dog/dog.995.jpg   \n",
            "  inflating: train/Dog/dog.996.jpg   \n",
            "  inflating: train/Dog/dog.997.jpg   \n",
            "  inflating: train/Dog/dog.998.jpg   \n",
            "  inflating: train/Dog/dog.999.jpg   \n",
            "   creating: validation/\n",
            "   creating: validation/Cat/\n",
            "  inflating: validation/Cat/cat.2407.jpg  \n",
            "  inflating: validation/Cat/cat.2408.jpg  \n",
            "  inflating: validation/Cat/cat.2409.jpg  \n",
            "  inflating: validation/Cat/cat.2410.jpg  \n",
            "  inflating: validation/Cat/cat.2411.jpg  \n",
            "  inflating: validation/Cat/cat.2412.jpg  \n",
            "  inflating: validation/Cat/cat.2413.jpg  \n",
            "  inflating: validation/Cat/cat.2414.jpg  \n",
            "  inflating: validation/Cat/cat.2415.jpg  \n",
            "  inflating: validation/Cat/cat.2416.jpg  \n",
            "  inflating: validation/Cat/cat.2417.jpg  \n",
            "  inflating: validation/Cat/cat.2418.jpg  \n",
            "  inflating: validation/Cat/cat.2419.jpg  \n",
            "  inflating: validation/Cat/cat.2420.jpg  \n",
            "  inflating: validation/Cat/cat.2421.jpg  \n",
            "  inflating: validation/Cat/cat.2422.jpg  \n",
            "  inflating: validation/Cat/cat.2423.jpg  \n",
            "  inflating: validation/Cat/cat.2424.jpg  \n",
            "  inflating: validation/Cat/cat.2425.jpg  \n",
            "  inflating: validation/Cat/cat.2426.jpg  \n",
            "  inflating: validation/Cat/cat.2427.jpg  \n",
            "  inflating: validation/Cat/cat.2428.jpg  \n",
            "  inflating: validation/Cat/cat.2429.jpg  \n",
            "  inflating: validation/Cat/cat.2430.jpg  \n",
            "  inflating: validation/Cat/cat.2431.jpg  \n",
            "  inflating: validation/Cat/cat.2432.jpg  \n",
            "  inflating: validation/Cat/cat.2433.jpg  \n",
            "  inflating: validation/Cat/cat.2434.jpg  \n",
            "  inflating: validation/Cat/cat.2435.jpg  \n",
            "   creating: validation/Dog/\n",
            "  inflating: validation/Dog/dog.2402.jpg  \n",
            "  inflating: validation/Dog/dog.2403.jpg  \n",
            "  inflating: validation/Dog/dog.2404.jpg  \n",
            "  inflating: validation/Dog/dog.2405.jpg  \n",
            "  inflating: validation/Dog/dog.2406.jpg  \n",
            "  inflating: validation/Dog/dog.2407.jpg  \n",
            "  inflating: validation/Dog/dog.2408.jpg  \n",
            "  inflating: validation/Dog/dog.2409.jpg  \n",
            "  inflating: validation/Dog/dog.2410.jpg  \n",
            "  inflating: validation/Dog/dog.2411.jpg  \n",
            "  inflating: validation/Dog/dog.2412.jpg  \n",
            "  inflating: validation/Dog/dog.2413.jpg  \n",
            "  inflating: validation/Dog/dog.2414.jpg  \n",
            "  inflating: validation/Dog/dog.2415.jpg  \n",
            "  inflating: validation/Dog/dog.2416.jpg  \n",
            "  inflating: validation/Dog/dog.2417.jpg  \n",
            "  inflating: validation/Dog/dog.2418.jpg  \n",
            "  inflating: validation/Dog/dog.2419.jpg  \n",
            "  inflating: validation/Dog/dog.2420.jpg  \n",
            "  inflating: validation/Dog/dog.2421.jpg  \n",
            "  inflating: validation/Dog/dog.2422.jpg  \n",
            "  inflating: validation/Dog/dog.2423.jpg  \n",
            "  inflating: validation/Dog/dog.2424.jpg  \n",
            "  inflating: validation/Dog/dog.2425.jpg  \n",
            "  inflating: validation/Dog/dog.2426.jpg  \n",
            "  inflating: validation/Dog/dog.2427.jpg  \n",
            "  inflating: validation/Dog/dog.2428.jpg  \n",
            "  inflating: validation/Dog/dog.2429.jpg  \n",
            "  inflating: validation/Dog/dog.2430.jpg  \n",
            "  inflating: validation/Dog/dog.2431.jpg  \n"
          ]
        }
      ]
    },
    {
      "cell_type": "code",
      "source": [
        "from tensorflow import keras\n",
        "from tensorflow.keras.applications.vgg16 import VGG16\n",
        "from tensorflow.keras.layers import Dense, Flatten\n",
        "from keras.preprocessing.image import ImageDataGenerator\n",
        "from keras.layers import Dense,Dropout,Flatten"
      ],
      "metadata": {
        "id": "ckqvASZ-PUhO"
      },
      "execution_count": 48,
      "outputs": []
    },
    {
      "cell_type": "code",
      "source": [
        "epoch = 25\n",
        "base_model =  VGG16(input_shape=(224,224,3),include_top=False,weights='imagent')\n",
        "base_model.trainable = False\n",
        "\n",
        "model = keras.Sequential()\n",
        "model.add(base_model)\n"
      ],
      "metadata": {
        "id": "iZTbZrnfQcC8"
      },
      "execution_count": null,
      "outputs": []
    }
  ]
}