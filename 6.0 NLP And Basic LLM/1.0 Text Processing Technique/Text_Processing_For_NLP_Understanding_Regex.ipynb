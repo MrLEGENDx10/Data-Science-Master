{
  "cells": [
    {
      "cell_type": "markdown",
      "metadata": {
        "id": "alDdZssF9LAP"
      },
      "source": [
        "# Import the 're' Module"
      ]
    },
    {
      "cell_type": "code",
      "execution_count": 1,
      "metadata": {
        "id": "uK0MRy7F9LAV"
      },
      "outputs": [],
      "source": [
        "import re"
      ]
    },
    {
      "cell_type": "markdown",
      "metadata": {
        "id": "ZOtueRn89LAX"
      },
      "source": [
        "# Sample Text"
      ]
    },
    {
      "cell_type": "code",
      "execution_count": null,
      "metadata": {
        "id": "Vd3zlG299LAX"
      },
      "outputs": [],
      "source": [
        "text = \"The quick brown fox jumps over the lazy dog.\""
      ]
    },
    {
      "cell_type": "markdown",
      "metadata": {
        "id": "zDktth-09LAY"
      },
      "source": [
        "# Basic Regex Operations"
      ]
    },
    {
      "cell_type": "markdown",
      "metadata": {
        "id": "yDvJEWlZ9LAY"
      },
      "source": [
        "Regex allows you to perform various operations on text, such as searching for patterns, replacing text, and splitting strings."
      ]
    },
    {
      "cell_type": "markdown",
      "metadata": {
        "id": "q4paQ1wX9LAY"
      },
      "source": [
        "### Searching for a Pattern"
      ]
    },
    {
      "cell_type": "code",
      "execution_count": null,
      "metadata": {
        "id": "RG7fhqVN9LAY",
        "outputId": "3e2c3909-52bd-47de-c370-d6ea5af69bb4"
      },
      "outputs": [
        {
          "name": "stdout",
          "output_type": "stream",
          "text": [
            "Matches: ['fox']\n"
          ]
        }
      ],
      "source": [
        "pattern = r\"fox\"\n",
        "matches = re.findall(pattern, text)\n",
        "print(\"Matches:\", matches)"
      ]
    },
    {
      "cell_type": "markdown",
      "metadata": {
        "id": "43rKr-8l9LAZ"
      },
      "source": [
        "### Replacing Text"
      ]
    },
    {
      "cell_type": "code",
      "execution_count": null,
      "metadata": {
        "id": "VHos_J4T9LAa",
        "outputId": "e1c156eb-6942-4212-eda5-6ec37c8f4d19"
      },
      "outputs": [
        {
          "name": "stdout",
          "output_type": "stream",
          "text": [
            "New Text: The quick brown cat jumps over the lazy dog.\n"
          ]
        }
      ],
      "source": [
        "pattern = r\"fox\"\n",
        "replacement = \"cat\"\n",
        "new_text = re.sub(pattern, replacement, text)\n",
        "print(\"New Text:\", new_text)"
      ]
    },
    {
      "cell_type": "markdown",
      "metadata": {
        "id": "ojt6vPPr9LAa"
      },
      "source": [
        "### Splitting Strings"
      ]
    },
    {
      "cell_type": "code",
      "execution_count": null,
      "metadata": {
        "id": "cxnVYbh09LAb",
        "outputId": "318b261a-f95d-4beb-deb9-09b3869aa217"
      },
      "outputs": [
        {
          "name": "stdout",
          "output_type": "stream",
          "text": [
            "Split Text: ['The', 'quick', 'brown', 'fox', 'jumps', 'over', 'the', 'lazy', 'dog.']\n"
          ]
        }
      ],
      "source": [
        "pattern = r\"\\s\"  # Split on spaces\n",
        "split_text = re.split(pattern, text)\n",
        "print(\"Split Text:\", split_text)"
      ]
    },
    {
      "cell_type": "markdown",
      "metadata": {
        "id": "a-jec_OM9LAb"
      },
      "source": [
        "# Character Classes and Quantifiers"
      ]
    },
    {
      "cell_type": "markdown",
      "metadata": {
        "id": "y99kGZzM9LAc"
      },
      "source": [
        "### Character Classes"
      ]
    },
    {
      "cell_type": "code",
      "execution_count": null,
      "metadata": {
        "id": "p9jKupqy9LAc",
        "outputId": "0d770a31-01f4-493e-8fa9-39a072c9f83b"
      },
      "outputs": [
        {
          "name": "stdout",
          "output_type": "stream",
          "text": [
            "Vowels: ['e', 'u', 'i', 'o', 'o', 'u', 'o', 'e', 'e', 'a', 'o']\n"
          ]
        }
      ],
      "source": [
        "pattern = r\"[aeiou]\"\n",
        "vowels = re.findall(pattern, text)\n",
        "print(\"Vowels:\", vowels)"
      ]
    },
    {
      "cell_type": "markdown",
      "metadata": {
        "id": "QC3hWXit9LAd"
      },
      "source": [
        "### Quantifiers"
      ]
    },
    {
      "cell_type": "code",
      "execution_count": null,
      "metadata": {
        "id": "Ku-zHke29LAd",
        "outputId": "1fc7186f-fe91-47ec-c01d-81b715d8f2a6"
      },
      "outputs": [
        {
          "name": "stdout",
          "output_type": "stream",
          "text": [
            "Matches: []\n"
          ]
        }
      ],
      "source": [
        "pattern = r\"o{2}\"  # Matches two consecutive 'o' characters\n",
        "matches = re.findall(pattern, text)\n",
        "print(\"Matches:\", matches)"
      ]
    },
    {
      "cell_type": "markdown",
      "metadata": {
        "id": "jLxZgOVQ9LAd"
      },
      "source": [
        "# Metacharacters and Anchors"
      ]
    },
    {
      "cell_type": "markdown",
      "metadata": {
        "id": "69Jrs0by9LAe"
      },
      "source": [
        "### Metacharacters"
      ]
    },
    {
      "cell_type": "code",
      "execution_count": null,
      "metadata": {
        "id": "B8orz-XP9LAe",
        "outputId": "35434901-211c-4b1c-d7c1-e853b51cf591"
      },
      "outputs": [
        {
          "name": "stdout",
          "output_type": "stream",
          "text": [
            "Matches: ['The', 'fox', 'the', 'dog']\n"
          ]
        }
      ],
      "source": [
        "pattern = r\"\\b\\w{3}\\b\"  # Matches three-letter words\n",
        "matches = re.findall(pattern, text)\n",
        "print(\"Matches:\", matches)"
      ]
    },
    {
      "cell_type": "markdown",
      "metadata": {
        "id": "omxEjSd_9LAe"
      },
      "source": [
        "### Anchors"
      ]
    },
    {
      "cell_type": "code",
      "execution_count": null,
      "metadata": {
        "id": "L5VuZgAb9LAe",
        "outputId": "25c24f57-1dd7-4164-ba19-10215808045a"
      },
      "outputs": [
        {
          "name": "stdout",
          "output_type": "stream",
          "text": [
            "Matches: ['The']\n"
          ]
        }
      ],
      "source": [
        "pattern = r\"^The\"  # Matches 'The' at the beginning of the string\n",
        "matches = re.findall(pattern, text)\n",
        "print(\"Matches:\", matches)"
      ]
    },
    {
      "cell_type": "markdown",
      "metadata": {
        "id": "REyb0YcU9LAf"
      },
      "source": [
        "# Grouping and Capturing"
      ]
    },
    {
      "cell_type": "code",
      "execution_count": null,
      "metadata": {
        "id": "cfLArGcl9LAf",
        "outputId": "f50d0fb9-6bf4-472f-ac3a-0e1201f95331"
      },
      "outputs": [
        {
          "name": "stdout",
          "output_type": "stream",
          "text": [
            "Matches: [('The', 'quick'), ('brown', 'fox'), ('jumps', 'over'), ('the', 'lazy')]\n"
          ]
        }
      ],
      "source": [
        "pattern = r\"(\\w+)\\s(\\w+)\"  # Matches two consecutive words\n",
        "matches = re.findall(pattern, text)\n",
        "print(\"Matches:\", matches)"
      ]
    },
    {
      "cell_type": "markdown",
      "metadata": {
        "id": "pnPvEh_39LAf"
      },
      "source": [
        "# Using Regex for Tokenization"
      ]
    },
    {
      "cell_type": "markdown",
      "metadata": {
        "id": "-Heo6JCk9LAf"
      },
      "source": [
        "Regex is also useful for tokenizing text into words or sentences."
      ]
    },
    {
      "cell_type": "markdown",
      "metadata": {
        "id": "1QDEcmVY9LAf"
      },
      "source": [
        "### Tokenizing into Words"
      ]
    },
    {
      "cell_type": "code",
      "execution_count": null,
      "metadata": {
        "id": "q5z0feLV9LAg",
        "outputId": "edd335b7-2409-43d9-9cab-e6d670f6dc94"
      },
      "outputs": [
        {
          "name": "stdout",
          "output_type": "stream",
          "text": [
            "Words: ['The', 'quick', 'brown', 'fox', 'jumps', 'over', 'the', 'lazy', 'dog.']\n"
          ]
        }
      ],
      "source": [
        "pattern = r\"\\s\"  # Split on spaces\n",
        "words = re.split(pattern, text)\n",
        "print(\"Words:\", words)"
      ]
    },
    {
      "cell_type": "markdown",
      "metadata": {
        "id": "xUBXWOiN9LAg"
      },
      "source": [
        "### Tokenizing into Sentences"
      ]
    },
    {
      "cell_type": "code",
      "execution_count": null,
      "metadata": {
        "id": "lblNiYS-9LAg",
        "outputId": "fc326ecf-c2ae-4a7e-ceda-217f2fb68908"
      },
      "outputs": [
        {
          "name": "stdout",
          "output_type": "stream",
          "text": [
            "Sentences: ['The quick brown fox jumps over the lazy dog.']\n"
          ]
        }
      ],
      "source": [
        "pattern = r\"\\.\\s\"  # Split after periods followed by a space\n",
        "sentences = re.split(pattern, text)\n",
        "print(\"Sentences:\", sentences)"
      ]
    },
    {
      "cell_type": "code",
      "execution_count": null,
      "metadata": {
        "id": "gfMdiCoc9LAg"
      },
      "outputs": [],
      "source": []
    }
  ],
  "metadata": {
    "colab": {
      "provenance": []
    },
    "kernelspec": {
      "display_name": "Python 3",
      "language": "python",
      "name": "python3"
    },
    "language_info": {
      "codemirror_mode": {
        "name": "ipython",
        "version": 3
      },
      "file_extension": ".py",
      "mimetype": "text/x-python",
      "name": "python",
      "nbconvert_exporter": "python",
      "pygments_lexer": "ipython3",
      "version": "3.12.3"
    }
  },
  "nbformat": 4,
  "nbformat_minor": 0
}
