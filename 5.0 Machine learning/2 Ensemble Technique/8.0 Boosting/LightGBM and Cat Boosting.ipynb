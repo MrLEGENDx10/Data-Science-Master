{
 "cells": [
  {
   "cell_type": "markdown",
   "metadata": {},
   "source": [
    "## Cat Boosting\n",
    "\n",
    "[visit](https://www.geeksforgeeks.org/catboost-ml/?ref=lbp)\n",
    "\n",
    "## LightGBM\n",
    "[visit for more](https://www.geeksforgeeks.org/lightgbm-light-gradient-boosting-machine/)"
   ]
  },
  {
   "cell_type": "code",
   "execution_count": null,
   "metadata": {},
   "outputs": [],
   "source": []
  },
  {
   "cell_type": "code",
   "execution_count": null,
   "metadata": {},
   "outputs": [],
   "source": []
  },
  {
   "cell_type": "code",
   "execution_count": null,
   "metadata": {},
   "outputs": [],
   "source": []
  }
 ],
 "metadata": {
  "language_info": {
   "name": "python"
  }
 },
 "nbformat": 4,
 "nbformat_minor": 2
}
