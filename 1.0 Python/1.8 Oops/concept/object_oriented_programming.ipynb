{
 "cells": [
  {
   "cell_type": "code",
   "execution_count": 1,
   "metadata": {},
   "outputs": [],
   "source": [
    "a=1"
   ]
  },
  {
   "cell_type": "code",
   "execution_count": 2,
   "metadata": {},
   "outputs": [
    {
     "name": "stdout",
     "output_type": "stream",
     "text": [
      "<class 'int'>\n"
     ]
    }
   ],
   "source": [
    "print(type(a))"
   ]
  },
  {
   "cell_type": "code",
   "execution_count": 1,
   "metadata": {},
   "outputs": [
    {
     "name": "stdout",
     "output_type": "stream",
     "text": [
      "<class 'str'>\n"
     ]
    }
   ],
   "source": [
    "print(type(\"pwskills\"))"
   ]
  },
  {
   "cell_type": "code",
   "execution_count": 2,
   "metadata": {},
   "outputs": [],
   "source": [
    "class test:\n",
    "    pass"
   ]
  },
  {
   "cell_type": "code",
   "execution_count": 3,
   "metadata": {},
   "outputs": [],
   "source": [
    "a=test()"
   ]
  },
  {
   "cell_type": "code",
   "execution_count": 4,
   "metadata": {},
   "outputs": [
    {
     "name": "stdout",
     "output_type": "stream",
     "text": [
      "<class '__main__.test'>\n"
     ]
    }
   ],
   "source": [
    "print(type(a))"
   ]
  },
  {
   "cell_type": "code",
   "execution_count": 1,
   "metadata": {},
   "outputs": [],
   "source": [
    "class pwskills:\n",
    "    def welcome_msg(self):\n",
    "        print(\"welcome to pwskills\")"
   ]
  },
  {
   "cell_type": "markdown",
   "metadata": {},
   "source": [
    "The code you provided defines a class named `pwskills` with a method `welcome_msg`. This method, when called, prints the string \"welcome in skills world\".\n",
    "\n",
    "However, there's a key aspect missing in this method definition: the `self` parameter. In Python, the `self` parameter is a reference to the current instance of the class and is used to access variables that belong to the class.\n",
    "\n",
    "Without the `self` parameter, `welcome_msg` is essentially a static method. That means it belongs to the class and not the instance of the class, and it can't modify the class state. It can be called on the class itself, like this: `pwskills.welcome_msg()`.\n",
    "\n",
    "Here's how you would typically define a method within a class in Python:\n",
    "\n",
    "```python\n",
    "class pwskills:\n",
    "    def welcome_msg(self):\n",
    "        print(\"welcome in skills world\")\n",
    "```\n",
    "\n",
    "Now, `welcome_msg` is an instance method, which means it is bound to the instance of the class, not the class itself. You would call it on an instance of the class, like this:\n",
    "\n",
    "```python\n",
    "p = pwskills()\n",
    "p.welcome_msg()\n",
    "```\n",
    "\n",
    "In this code, `p` is an instance of the `pwskills` class, and `p.welcome_msg()` calls the `welcome_msg` method on that instance. Because `welcome_msg` has `self` as a parameter, it could access and modify other attributes of the `p` instance if there were any."
   ]
  },
  {
   "cell_type": "code",
   "execution_count": 2,
   "metadata": {},
   "outputs": [],
   "source": [
    "rohan=pwskills()"
   ]
  },
  {
   "cell_type": "code",
   "execution_count": 4,
   "metadata": {},
   "outputs": [
    {
     "name": "stdout",
     "output_type": "stream",
     "text": [
      "welcome to pwskills\n"
     ]
    }
   ],
   "source": [
    "rohan.welcome_msg()"
   ]
  },
  {
   "cell_type": "code",
   "execution_count": 5,
   "metadata": {},
   "outputs": [],
   "source": [
    "sohan=pwskills()"
   ]
  },
  {
   "cell_type": "code",
   "execution_count": 6,
   "metadata": {},
   "outputs": [
    {
     "name": "stdout",
     "output_type": "stream",
     "text": [
      "welcome to pwskills\n"
     ]
    }
   ],
   "source": [
    "sohan.welcome_msg()"
   ]
  },
  {
   "cell_type": "code",
   "execution_count": 8,
   "metadata": {},
   "outputs": [],
   "source": [
    "class pwskills1:\n",
    "    def __init__(self,phone_number,email_id,student_id):\n",
    "        self.phone_number=phone_number\n",
    "        self.email_id=email_id\n",
    "        self.student_id=student_id\n",
    "\n",
    "    def return_student_details(self):\n",
    "        return self.phone_number,self.email_id,self.student_id"
   ]
  },
  {
   "cell_type": "markdown",
   "metadata": {},
   "source": [
    "The provided Python code is an example of a class definition in object-oriented programming. Let's break it down:\n",
    "\n",
    "```python\n",
    "# A class named 'pwskills1' is defined. This is a blueprint for creating objects (instances) of this class.\n",
    "class pwskills1:\n",
    "    # The '__init__' method is a special method called a constructor, which is called when an instance of the class is created.\n",
    "    def __init__(self, phone_number, email_id, student_id):\n",
    "        # 'self' is a reference to the instance of the class. Here, we're setting some attributes on the instance.\n",
    "        # These are data that the object keeps track of. Each instance of the class will have its own copy of these variables.\n",
    "        self.phone_number = phone_number  # A phone number attribute\n",
    "        self.email_id = email_id  # An email ID attribute\n",
    "        self.student_id = student_id  # A student ID attribute\n",
    "\n",
    "    # This is an instance method. It's a function that belongs to the object, and it can access and modify the object's attributes.\n",
    "    def return_student_details(self):\n",
    "        # This method returns a tuple containing the phone number, email ID, and student ID of the instance.\n",
    "        return self.phone_number, self.email_id, self.student_id\n",
    "```\n",
    "\n",
    "To use this class, you would create an instance of it and then call its methods. Here's an example:\n",
    "\n",
    "```python\n",
    "# Create an instance of the 'pwskills1' class\n",
    "student = pwskills1(\"1234567890\", \"student@example.com\", \"S123\")\n",
    "\n",
    "# Call the 'return_student_details' method on the 'student' instance\n",
    "details = student.return_student_details()\n",
    "\n",
    "# Print the details\n",
    "print(details)  # Output: ('1234567890', 'student@example.com', 'S123')\n",
    "```\n",
    "\n",
    "In this code, we're creating a `pwskills1` instance with a phone number of \"1234567890\", an email ID of \"student@example.com\", and a student ID of \"S123\". We then call the `return_student_details` method on the instance to get the student details, and print the details."
   ]
  },
  {
   "cell_type": "code",
   "execution_count": 9,
   "metadata": {},
   "outputs": [],
   "source": [
    "sohan= pwskills1(99992938,\"sohan@gmail.com\",102)"
   ]
  },
  {
   "cell_type": "code",
   "execution_count": 11,
   "metadata": {},
   "outputs": [
    {
     "data": {
      "text/plain": [
       "(99992938, 'sohan@gmail.com', 102)"
      ]
     },
     "execution_count": 11,
     "metadata": {},
     "output_type": "execute_result"
    }
   ],
   "source": [
    "sohan.return_student_details()"
   ]
  },
  {
   "cell_type": "code",
   "execution_count": null,
   "metadata": {},
   "outputs": [],
   "source": []
  }
 ],
 "metadata": {
  "kernelspec": {
   "display_name": "Python 3",
   "language": "python",
   "name": "python3"
  },
  "language_info": {
   "codemirror_mode": {
    "name": "ipython",
    "version": 3
   },
   "file_extension": ".py",
   "mimetype": "text/x-python",
   "name": "python",
   "nbconvert_exporter": "python",
   "pygments_lexer": "ipython3",
   "version": "3.10.11"
  },
  "orig_nbformat": 4
 },
 "nbformat": 4,
 "nbformat_minor": 2
}
