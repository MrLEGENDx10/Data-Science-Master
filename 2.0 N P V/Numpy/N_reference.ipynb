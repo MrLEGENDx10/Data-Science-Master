{
 "cells": [
  {
   "cell_type": "code",
   "execution_count": 1,
   "metadata": {},
   "outputs": [],
   "source": [
    "import numpy as np"
   ]
  },
  {
   "cell_type": "code",
   "execution_count": 3,
   "metadata": {},
   "outputs": [
    {
     "data": {
      "text/plain": [
       "array([1, 2, 3, 4, 5])"
      ]
     },
     "execution_count": 3,
     "metadata": {},
     "output_type": "execute_result"
    }
   ],
   "source": [
    "int_array = np.array([1, 2, 3, 4, 5],dtype=np.int32)\n",
    "int_array "
   ]
  },
  {
   "cell_type": "code",
   "execution_count": 4,
   "metadata": {},
   "outputs": [],
   "source": [
    "int_array = np.array([1, 2, 3, 4, 5],dtype=np.float32)"
   ]
  },
  {
   "cell_type": "code",
   "execution_count": 5,
   "metadata": {},
   "outputs": [
    {
     "data": {
      "text/plain": [
       "array([1., 2., 3., 4., 5.], dtype=float32)"
      ]
     },
     "execution_count": 5,
     "metadata": {},
     "output_type": "execute_result"
    }
   ],
   "source": [
    "int_array"
   ]
  },
  {
   "cell_type": "code",
   "execution_count": 6,
   "metadata": {},
   "outputs": [
    {
     "data": {
      "text/plain": [
       "array([[ 1,  2,  3,  4,  5],\n",
       "       [ 6,  7,  8,  9, 10]])"
      ]
     },
     "execution_count": 6,
     "metadata": {},
     "output_type": "execute_result"
    }
   ],
   "source": [
    "original_arr = np.array([[1, 2, 3, 4, 5],[6, 7, 8, 9, 10]])\n",
    "original_arr"
   ]
  },
  {
   "cell_type": "code",
   "execution_count": 7,
   "metadata": {},
   "outputs": [],
   "source": [
    "arr_3d = np.array([[[1, 2, 3, 4, 5],[6, 7, 8, 9, 10]],[[11, 12, 13, 14, 15],[16, 17, 18, 19, 20]]])"
   ]
  },
  {
   "cell_type": "code",
   "execution_count": 8,
   "metadata": {},
   "outputs": [
    {
     "data": {
      "text/plain": [
       "array([[[ 1,  2,  3,  4,  5],\n",
       "        [ 6,  7,  8,  9, 10]],\n",
       "\n",
       "       [[11, 12, 13, 14, 15],\n",
       "        [16, 17, 18, 19, 20]]])"
      ]
     },
     "execution_count": 8,
     "metadata": {},
     "output_type": "execute_result"
    }
   ],
   "source": [
    "arr_3d"
   ]
  },
  {
   "cell_type": "code",
   "execution_count": 10,
   "metadata": {},
   "outputs": [
    {
     "data": {
      "text/plain": [
       "array([0.        , 0.11111111, 0.22222222, 0.33333333, 0.44444444,\n",
       "       0.55555556, 0.66666667, 0.77777778, 0.88888889, 1.        ])"
      ]
     },
     "execution_count": 10,
     "metadata": {},
     "output_type": "execute_result"
    }
   ],
   "source": [
    "linsapce_arr = np.linspace(0,1,10)\n",
    "linsapce_arr"
   ]
  },
  {
   "cell_type": "code",
   "execution_count": 12,
   "metadata": {},
   "outputs": [
    {
     "data": {
      "text/plain": [
       "array([  1.        ,   1.66810054,   2.7825594 ,   4.64158883,\n",
       "         7.74263683,  12.91549665,  21.5443469 ,  35.93813664,\n",
       "        59.94842503, 100.        ])"
      ]
     },
     "execution_count": 12,
     "metadata": {},
     "output_type": "execute_result"
    }
   ],
   "source": [
    "logspace_arr = np.logspace(0,2,10)\n",
    "logspace_arr"
   ]
  },
  {
   "cell_type": "code",
   "execution_count": 15,
   "metadata": {},
   "outputs": [
    {
     "data": {
      "text/plain": [
       "array([0, 2, 4, 6, 8])"
      ]
     },
     "execution_count": 15,
     "metadata": {},
     "output_type": "execute_result"
    }
   ],
   "source": [
    "arrange_arr  = np.arange(0,10,2)\n",
    "arrange_arr"
   ]
  },
  {
   "cell_type": "code",
   "execution_count": 17,
   "metadata": {},
   "outputs": [
    {
     "data": {
      "text/plain": [
       "array([[0., 0., 0.],\n",
       "       [0., 0., 0.],\n",
       "       [0., 0., 0.]])"
      ]
     },
     "execution_count": 17,
     "metadata": {},
     "output_type": "execute_result"
    }
   ],
   "source": [
    "zero_arr = np.zeros((3,3))\n",
    "zero_arr"
   ]
  },
  {
   "cell_type": "code",
   "execution_count": 22,
   "metadata": {},
   "outputs": [
    {
     "data": {
      "text/plain": [
       "array([[0, 0, 0, 0, 0],\n",
       "       [0, 0, 0, 0, 0]])"
      ]
     },
     "execution_count": 22,
     "metadata": {},
     "output_type": "execute_result"
    }
   ],
   "source": [
    "zero_array = np.zeros_like(original_arr)\n",
    "\n",
    "zero_array"
   ]
  },
  {
   "cell_type": "code",
   "execution_count": 23,
   "metadata": {},
   "outputs": [
    {
     "name": "stdout",
     "output_type": "stream",
     "text": [
      "Dimension of arr_1d: 1 , Shpae of arr_1d: (5,) , Size of arr_1d: 5\n"
     ]
    }
   ],
   "source": [
    "arr_1d = np.array([1, 2, 3, 4, 5])\n",
    "print(f\"Dimension of arr_1d: {arr_1d.ndim} , Shpae of arr_1d: {arr_1d.shape} , Size of arr_1d: {arr_1d.size}\")"
   ]
  },
  {
   "cell_type": "code",
   "execution_count": 25,
   "metadata": {},
   "outputs": [
    {
     "data": {
      "text/plain": [
       "(1, array([1, 2, 3, 4, 5]))"
      ]
     },
     "execution_count": 25,
     "metadata": {},
     "output_type": "execute_result"
    }
   ],
   "source": [
    "arr = np.array([[1, 2, 3, 4, 5],[6, 7, 8, 9, 10]])\n",
    "first_row = arr[0]\n",
    "first_element = arr[0,0]\n",
    "first_element, first_row"
   ]
  },
  {
   "cell_type": "code",
   "execution_count": 26,
   "metadata": {},
   "outputs": [],
   "source": [
    "arr_3d = np.array([[[1, 2, 3, 4, 5],[6, 7, 8, 9, 10]],[[11, 12, 13, 14, 15],[16, 17, 18, 19, 20]]])"
   ]
  },
  {
   "cell_type": "code",
   "execution_count": 28,
   "metadata": {},
   "outputs": [
    {
     "data": {
      "text/plain": [
       "1"
      ]
     },
     "execution_count": 28,
     "metadata": {},
     "output_type": "execute_result"
    }
   ],
   "source": [
    "arr_3d[0,0,0]"
   ]
  },
  {
   "cell_type": "code",
   "execution_count": 30,
   "metadata": {},
   "outputs": [
    {
     "data": {
      "text/plain": [
       "array([ 6,  7,  8,  9, 10])"
      ]
     },
     "execution_count": 30,
     "metadata": {},
     "output_type": "execute_result"
    }
   ],
   "source": [
    "slice_arr = arr_3d[0,1]\n",
    "slice_arr"
   ]
  },
  {
   "cell_type": "code",
   "execution_count": 32,
   "metadata": {},
   "outputs": [
    {
     "data": {
      "text/plain": [
       "array([6, 7, 8])"
      ]
     },
     "execution_count": 32,
     "metadata": {},
     "output_type": "execute_result"
    }
   ],
   "source": [
    "slice_arr = arr_3d[0,1,0:3]\n",
    "slice_arr"
   ]
  },
  {
   "cell_type": "code",
   "execution_count": 36,
   "metadata": {},
   "outputs": [
    {
     "data": {
      "text/plain": [
       "array([[[ 1,  2,  3,  4,  5],\n",
       "        [ 6,  7,  8,  9, 10]]])"
      ]
     },
     "execution_count": 36,
     "metadata": {},
     "output_type": "execute_result"
    }
   ],
   "source": [
    "slice_arr = arr_3d[0::2]\n",
    "slice_arr"
   ]
  },
  {
   "cell_type": "code",
   "execution_count": 55,
   "metadata": {},
   "outputs": [
    {
     "data": {
      "text/plain": [
       "array([[ 1,  2,  3,  4,  5],\n",
       "       [ 6,  7,  8,  9, 10],\n",
       "       [11, 12, 13, 14, 15]])"
      ]
     },
     "execution_count": 55,
     "metadata": {},
     "output_type": "execute_result"
    }
   ],
   "source": [
    "arr_2d = np.array([[1, 2, 3, 4, 5],[6, 7, 8, 9, 10],[11,12,13,14,15]])\n",
    "arr_2d"
   ]
  },
  {
   "cell_type": "code",
   "execution_count": 52,
   "metadata": {},
   "outputs": [
    {
     "data": {
      "text/plain": [
       "array([[ 6,  7,  8,  9, 10]])"
      ]
     },
     "execution_count": 52,
     "metadata": {},
     "output_type": "execute_result"
    }
   ],
   "source": [
    "slice_arr = arr_2d[1::2]\n",
    "slice_arr"
   ]
  },
  {
   "cell_type": "code",
   "execution_count": 56,
   "metadata": {},
   "outputs": [
    {
     "data": {
      "text/plain": [
       "array([[ 1,  2,  3,  4,  5],\n",
       "       [ 6,  7,  8,  9, 10]])"
      ]
     },
     "execution_count": 56,
     "metadata": {},
     "output_type": "execute_result"
    }
   ],
   "source": [
    "second_to_last = arr[-2::1]\n",
    "second_to_last"
   ]
  },
  {
   "cell_type": "code",
   "execution_count": 60,
   "metadata": {},
   "outputs": [
    {
     "data": {
      "text/plain": [
       "array([ 6,  7,  8,  9, 10, 11, 12, 13, 14, 15])"
      ]
     },
     "execution_count": 60,
     "metadata": {},
     "output_type": "execute_result"
    }
   ],
   "source": [
    "sliced_arr = arr_2d[arr_2d > 5]\n",
    "sliced_arr"
   ]
  },
  {
   "cell_type": "code",
   "execution_count": 62,
   "metadata": {},
   "outputs": [
    {
     "name": "stdout",
     "output_type": "stream",
     "text": [
      "Addition: [ 7  9 11 13 15]\n",
      "Subtraction: [-5 -5 -5 -5 -5]\n",
      "Multiplication: [ 6 14 24 36 50]\n",
      "Division: [0.16666667 0.28571429 0.375      0.44444444 0.5       ]\n",
      "Modulus: [1 2 3 4 5]\n",
      "Exponential: [      1     128    6561  262144 9765625]\n",
      "Scalar Addition: [3 4 5 6 7]\n",
      "Scalar Subtraction: [-1  0  1  2  3]\n",
      "Scalar Multiplication: [ 2  4  6  8 10]\n",
      "Scalar Division: [0.5 1.  1.5 2.  2.5]\n",
      "Scalar Modulus: [1 0 1 0 1]\n",
      "Scalar Exponential: [ 1  4  9 16 25]\n"
     ]
    }
   ],
   "source": [
    "arr1 = np.array([1, 2, 3, 4, 5])\n",
    "arr2 = np.array([6, 7, 8, 9, 10])\n",
    "scalar = 2\n",
    "\n",
    "addition = arr1 + arr2\n",
    "print(\"Addition:\", addition)\n",
    "\n",
    "subtraction = arr1 - arr2\n",
    "print(\"Subtraction:\", subtraction)\n",
    "\n",
    "multiplication = arr1 * arr2\n",
    "print(\"Multiplication:\", multiplication)\n",
    "\n",
    "division = arr1 / arr2\n",
    "print(\"Division:\", division)\n",
    "\n",
    "modulus = arr1 % arr2\n",
    "print(\"Modulus:\", modulus)\n",
    "\n",
    "exponential = arr1 ** arr2\n",
    "print(\"Exponential:\", exponential)\n",
    "\n",
    "scalar_addition = arr1 + scalar\n",
    "print(\"Scalar Addition:\", scalar_addition)\n",
    "\n",
    "scalar_subtraction = arr1 - scalar\n",
    "print(\"Scalar Subtraction:\", scalar_subtraction)\n",
    "\n",
    "scalar_multiplication = arr1 * scalar\n",
    "print(\"Scalar Multiplication:\", scalar_multiplication)\n",
    "\n",
    "scalar_division = arr1 / scalar\n",
    "print(\"Scalar Division:\", scalar_division)\n",
    "\n",
    "scalar_modulus = arr1 % scalar\n",
    "print(\"Scalar Modulus:\", scalar_modulus)\n",
    "\n",
    "scalar_exponential = arr1 ** scalar\n",
    "print(\"Scalar Exponential:\", scalar_exponential)\n"
   ]
  },
  {
   "cell_type": "code",
   "execution_count": 65,
   "metadata": {},
   "outputs": [],
   "source": [
    "matrix_1 = np.array([[1,2,3],[4,5,6],[7,8,9]])\n",
    "matrix_2 = np.array([[1,2,3],[4,5,6],[7,8,9]])\n",
    "\n",
    "matrix_multiplication = np.dot(matrix_1,matrix_2)"
   ]
  },
  {
   "cell_type": "code",
   "execution_count": 66,
   "metadata": {},
   "outputs": [
    {
     "data": {
      "text/plain": [
       "array([[ 30,  36,  42],\n",
       "       [ 66,  81,  96],\n",
       "       [102, 126, 150]])"
      ]
     },
     "execution_count": 66,
     "metadata": {},
     "output_type": "execute_result"
    }
   ],
   "source": [
    "matrix_multiplication"
   ]
  },
  {
   "cell_type": "markdown",
   "metadata": {},
   "source": [
    "### Append and Delete"
   ]
  },
  {
   "cell_type": "code",
   "execution_count": 2,
   "metadata": {},
   "outputs": [
    {
     "data": {
      "text/plain": [
       "array([1, 2, 3, 4, 5, 6])"
      ]
     },
     "execution_count": 2,
     "metadata": {},
     "output_type": "execute_result"
    }
   ],
   "source": [
    "original_arr = np.array([1,2,3])\n",
    "\n",
    "original_arr = np.append(original_arr,[4,5,6])\n",
    "original_arr"
   ]
  },
  {
   "cell_type": "code",
   "execution_count": 6,
   "metadata": {},
   "outputs": [
    {
     "data": {
      "text/plain": [
       "array([ 1,  4,  5,  6,  9, 10])"
      ]
     },
     "execution_count": 6,
     "metadata": {},
     "output_type": "execute_result"
    }
   ],
   "source": [
    "arr = np.array([1,2,3,4,5,6,7,8,9,10])\n",
    "\n",
    "new_arr = np.delete(arr,[1,2,6,7])\n",
    "new_arr"
   ]
  },
  {
   "cell_type": "code",
   "execution_count": 10,
   "metadata": {},
   "outputs": [
    {
     "name": "stdout",
     "output_type": "stream",
     "text": [
      "New Array 1: [[1 3]\n",
      " [4 6]\n",
      " [7 9]]\n",
      "New Array 2: [[1 2 3]\n",
      " [7 8 9]]\n"
     ]
    }
   ],
   "source": [
    "arr = np.array([[1,2,3],[4,5,6],[7,8,9]])\n",
    "\n",
    "new_arr1 = np.delete(arr,1,axis=1)\n",
    "new_arr2 = np.delete(arr,1,axis=0)\n",
    "\n",
    "print(\"New Array 1:\", new_arr1)\n",
    "print(\"New Array 2:\", new_arr2)"
   ]
  },
  {
   "cell_type": "markdown",
   "metadata": {},
   "source": [
    "## Aggregation Function and ufuncs"
   ]
  },
  {
   "cell_type": "code",
   "execution_count": 11,
   "metadata": {},
   "outputs": [
    {
     "name": "stdout",
     "output_type": "stream",
     "text": [
      "Mean Value: 5.5\n"
     ]
    }
   ],
   "source": [
    "arr = np.array([1,2,3,4,5,6,7,8,9,10])\n",
    "\n",
    "## Aggregation\n",
    "mean_value = np.mean(arr)\n",
    "print(\"Mean Value:\", mean_value)"
   ]
  },
  {
   "cell_type": "code",
   "execution_count": 13,
   "metadata": {},
   "outputs": [
    {
     "name": "stdout",
     "output_type": "stream",
     "text": [
      "Median Value: 5.5\n",
      "Variance Value: 8.25\n",
      "Standard Deviation Value: 2.8722813232690143\n",
      "Sum Value: 55\n",
      "Min Value: 1\n",
      "Max Value: 10\n"
     ]
    }
   ],
   "source": [
    "median_value = np.median(arr)\n",
    "variance_value = np.var(arr)\n",
    "std_value = np.std(arr)\n",
    "\n",
    "sum_value = np.sum(arr)\n",
    "min_value = np.min(arr)\n",
    "max_value = np.max(arr)\n",
    "print(\"Median Value:\", median_value)\n",
    "print(\"Variance Value:\", variance_value)\n",
    "print(\"Standard Deviation Value:\", std_value)\n",
    "print(\"Sum Value:\", sum_value)\n",
    "print(\"Min Value:\", min_value)\n",
    "print(\"Max Value:\", max_value)\n"
   ]
  },
  {
   "cell_type": "code",
   "execution_count": 14,
   "metadata": {},
   "outputs": [
    {
     "name": "stdout",
     "output_type": "stream",
     "text": [
      "Square Root: [1.         1.41421356 1.73205081 2.         2.23606798 2.44948974\n",
      " 2.64575131 2.82842712 3.         3.16227766]\n",
      "Exponential: [2.71828183e+00 7.38905610e+00 2.00855369e+01 5.45981500e+01\n",
      " 1.48413159e+02 4.03428793e+02 1.09663316e+03 2.98095799e+03\n",
      " 8.10308393e+03 2.20264658e+04]\n"
     ]
    }
   ],
   "source": [
    "## Universal Functions\n",
    "\n",
    "sqrt_arr = np.sqrt(arr)\n",
    "print(\"Square Root:\", sqrt_arr)\n",
    "\n",
    "exp_arr = np.exp(arr)\n",
    "print(\"Exponential:\", exp_arr)"
   ]
  },
  {
   "cell_type": "markdown",
   "metadata": {},
   "source": [
    "## reshaping Array"
   ]
  },
  {
   "cell_type": "markdown",
   "metadata": {},
   "source": [
    "The code you've selected is using four different methods to convert a 2D array (`arr_2d`) into a 1D array. Here's what each method does:\n",
    "\n",
    "1. `arr_2d.reshape(-1)`: The `reshape` function gives a new shape to an array without changing its data. Here, the `-1` is used as a placeholder that means \"adjust this dimension automatically to match the total size of the array\".\n",
    "\n",
    "2. `arr_2d.flatten()`: The `flatten` function returns a copy of the array collapsed into one dimension.\n",
    "\n",
    "3. `arr_2d.ravel()`: The `ravel` function returns a contiguous flattened array. It's similar to `flatten`, but returns a view of the original array whenever possible. This means that if you modify the array returned by `ravel`, it may also modify the original array.\n",
    "\n",
    "4. `arr_2d.reshape(9)`: This is similar to the first method, but here the new shape is explicitly specified as `9`. This will only work if `arr_2d` has exactly 9 elements.\n",
    "\n",
    "The main difference between these methods is that `flatten` always returns a copy of the data, while `ravel` returns a view of the original array whenever possible. This can make `ravel` faster and less memory-intensive than `flatten`. The `reshape` function is more general and can be used to reshape an array to any shape, not just to flatten it."
   ]
  },
  {
   "cell_type": "code",
   "execution_count": 16,
   "metadata": {},
   "outputs": [
    {
     "name": "stdout",
     "output_type": "stream",
     "text": [
      "Reshape: [1 2 3 4 5 6 7 8 9]\n",
      "Flatten: [1 2 3 4 5 6 7 8 9]\n",
      "Ravel: [1 2 3 4 5 6 7 8 9]\n",
      "Reshape: [1 2 3 4 5 6 7 8 9]\n"
     ]
    }
   ],
   "source": [
    "arr_2d = np.array([[1,2,3],[4,5,6],[7,8,9]])\n",
    "arr_1d = arr_2d.reshape(-1)\n",
    "arr_1d_2 = arr_2d.flatten()\n",
    "arr_1d_3 = arr_2d.ravel()\n",
    "arr_1d_4 = arr_2d.reshape(9)\n",
    "\n",
    "print(\"Reshape:\", arr_1d)\n",
    "print(\"Flatten:\", arr_1d_2)\n",
    "print(\"Ravel:\", arr_1d_3)\n",
    "print(\"Reshape:\", arr_1d_4)"
   ]
  },
  {
   "cell_type": "code",
   "execution_count": 23,
   "metadata": {},
   "outputs": [
    {
     "name": "stdout",
     "output_type": "stream",
     "text": [
      "Reshape: [[ 1  2  3  4]\n",
      " [ 5  6  7  8]\n",
      " [ 9 10 11 12]]\n",
      "Reshape: [[ 1  2  3  4  5  6]\n",
      " [ 7  8  9 10 11 12]]\n",
      "Reshape: [[[ 1  2]\n",
      "  [ 3  4]\n",
      "  [ 5  6]]\n",
      "\n",
      " [[ 7  8]\n",
      "  [ 9 10]\n",
      "  [11 12]]]\n"
     ]
    }
   ],
   "source": [
    "arr_1d = np.array([1,2,3,4,5,6,7,8,9,10,11,12])\n",
    "\n",
    "arr_2d = arr_1d.reshape(3,4)\n",
    "arr_2d_1 = arr_1d.reshape(2,6)\n",
    "print(\"Reshape:\", arr_2d)\n",
    "print(\"Reshape:\", arr_2d_1)\n",
    "\n",
    "arr_3d = arr_1d.reshape(2,3,2)\n",
    "print(\"Reshape:\", arr_3d)"
   ]
  },
  {
   "cell_type": "code",
   "execution_count": null,
   "metadata": {},
   "outputs": [],
   "source": [
    "!pip install skimage\n"
   ]
  },
  {
   "cell_type": "code",
   "execution_count": 27,
   "metadata": {},
   "outputs": [
    {
     "ename": "ModuleNotFoundError",
     "evalue": "No module named 'skimage'",
     "output_type": "error",
     "traceback": [
      "\u001b[1;31m---------------------------------------------------------------------------\u001b[0m",
      "\u001b[1;31mModuleNotFoundError\u001b[0m                       Traceback (most recent call last)",
      "Cell \u001b[1;32mIn[27], line 1\u001b[0m\n\u001b[1;32m----> 1\u001b[0m \u001b[38;5;28;01mfrom\u001b[39;00m \u001b[38;5;21;01mskimage\u001b[39;00m \u001b[38;5;28;01mimport\u001b[39;00m data \n\u001b[0;32m      2\u001b[0m image  \u001b[38;5;241m=\u001b[39m data\u001b[38;5;241m.\u001b[39mcoins()\n\u001b[0;32m      3\u001b[0m \u001b[38;5;28mprint\u001b[39m(\u001b[38;5;124m\"\u001b[39m\u001b[38;5;124moriginal image shape:\u001b[39m\u001b[38;5;124m\"\u001b[39m, image\u001b[38;5;241m.\u001b[39mshape)\n",
      "\u001b[1;31mModuleNotFoundError\u001b[0m: No module named 'skimage'"
     ]
    }
   ],
   "source": [
    "from skimage import data \n",
    "image  = data.coins()\n",
    "print(\"original image shape:\", image.shape)"
   ]
  },
  {
   "cell_type": "code",
   "execution_count": 1,
   "metadata": {},
   "outputs": [],
   "source": [
    "import numpy as np"
   ]
  },
  {
   "cell_type": "code",
   "execution_count": 2,
   "metadata": {},
   "outputs": [
    {
     "data": {
      "text/plain": [
       "array([1, 2, 3, 4, 5, 6])"
      ]
     },
     "execution_count": 2,
     "metadata": {},
     "output_type": "execute_result"
    }
   ],
   "source": [
    "arr1 = np.array([1,2,3])\n",
    "arr2 = np.array([4,5,6])\n",
    "\n",
    "combined_arr = np.concatenate((arr1,arr2),axis=0)\n",
    "combined_arr"
   ]
  },
  {
   "cell_type": "code",
   "execution_count": 3,
   "metadata": {},
   "outputs": [
    {
     "data": {
      "text/plain": [
       "array([[1, 2, 3],\n",
       "       [4, 5, 6]])"
      ]
     },
     "execution_count": 3,
     "metadata": {},
     "output_type": "execute_result"
    }
   ],
   "source": [
    "vertical_stack = np.vstack((arr1,arr2))\n",
    "vertical_stack"
   ]
  },
  {
   "cell_type": "code",
   "execution_count": 4,
   "metadata": {},
   "outputs": [
    {
     "data": {
      "text/plain": [
       "array([1, 2, 3, 4, 5, 6])"
      ]
     },
     "execution_count": 4,
     "metadata": {},
     "output_type": "execute_result"
    }
   ],
   "source": [
    "hortizontal_stack = np.hstack((arr1,arr2))\n",
    "hortizontal_stack"
   ]
  },
  {
   "cell_type": "markdown",
   "metadata": {},
   "source": [
    "## spliting Array"
   ]
  },
  {
   "cell_type": "code",
   "execution_count": 5,
   "metadata": {},
   "outputs": [
    {
     "data": {
      "text/plain": [
       "[array([1, 2]), array([3, 4]), array([5, 6]), array([7, 8]), array([ 9, 10])]"
      ]
     },
     "execution_count": 5,
     "metadata": {},
     "output_type": "execute_result"
    }
   ],
   "source": [
    "arr = np.array([1,2,3,4,5,6,7,8,9,10])\n",
    "\n",
    "split_arr = np.split(arr,5)\n",
    "split_arr"
   ]
  },
  {
   "cell_type": "markdown",
   "metadata": {},
   "source": [
    "## Alias View and Copy"
   ]
  },
  {
   "cell_type": "markdown",
   "metadata": {},
   "source": [
    "**Alias**: An alias refers to multiple variables that all point to the same underlying NumPy array object. They share the same data in memory. Changes in the alias array will affect the original array.\n",
    "\n",
    "**View**: The `.view()` method creates a new array object that looks at the same data as the original array but does not share the same identity. It provides a way to view the data differently or with different data types, but it still operates on the same underlying data.\n",
    "\n",
    "**Copy**: A copy is a completely independent duplicate of a NumPy array. It has its own data in memory, and changes made to the copy will not affect the original array, and vice versa.\n"
   ]
  },
  {
   "cell_type": "code",
   "execution_count": 6,
   "metadata": {},
   "outputs": [
    {
     "name": "stdout",
     "output_type": "stream",
     "text": [
      "Original Array: [[100   2   3]\n",
      " [  4   5   6]\n",
      " [  7   8   9]]\n"
     ]
    }
   ],
   "source": [
    "original_arr = np.array([[1,2,3],[4,5,6],[7,8,9]])\n",
    "alias_arr = original_arr\n",
    "alias_arr[0,0] = 100\n",
    "print(\"Original Array:\", original_arr)"
   ]
  },
  {
   "cell_type": "code",
   "execution_count": 7,
   "metadata": {},
   "outputs": [
    {
     "name": "stdout",
     "output_type": "stream",
     "text": [
      "Original Array: [[100   2   3]\n",
      " [  4   5   6]\n",
      " [  7   8   9]]\n"
     ]
    }
   ],
   "source": [
    "original_arr = np.array([[1,2,3],[4,5,6],[7,8,9]])\n",
    "view_arr = original_arr.view()\n",
    "view_arr[0,0] = 100\n",
    "print(\"Original Array:\", original_arr)"
   ]
  },
  {
   "cell_type": "code",
   "execution_count": 8,
   "metadata": {},
   "outputs": [
    {
     "name": "stdout",
     "output_type": "stream",
     "text": [
      "Original Array: [[1 2 3]\n",
      " [4 5 6]\n",
      " [7 8 9]]\n"
     ]
    }
   ],
   "source": [
    "original_arr = np.array([[1,2,3],[4,5,6],[7,8,9]])\n",
    "copy_arr = original_arr.copy()\n",
    "copy_arr[0,0] = 100\n",
    "print(\"Original Array:\", original_arr)"
   ]
  },
  {
   "cell_type": "markdown",
   "metadata": {},
   "source": [
    "## Sorting Array"
   ]
  },
  {
   "cell_type": "code",
   "execution_count": 10,
   "metadata": {},
   "outputs": [
    {
     "name": "stdout",
     "output_type": "stream",
     "text": [
      "Sorted Data: [ 0  1  1  2  2  5  6  8  9  9 10]\n",
      "Reverse Sorted Data: [10  9  9  8  6  5  2  2  1  1  0]\n",
      "Sorted Indices: [ 7  0  5  1  3  6  2  8  4  9 10]\n"
     ]
    }
   ],
   "source": [
    "data = np.array([1,2,6,2,9,1,5,0,8,9,10])\n",
    "sorted_data = np.sort(data)\n",
    "print(\"Sorted Data:\", sorted_data)\n",
    "\n",
    "reverse_sorted_data = np.sort(data)[::-1]\n",
    "sorted_indices = np.argsort(data)\n",
    "print(\"Reverse Sorted Data:\", reverse_sorted_data)\n",
    "print(\"Sorted Indices:\", sorted_indices)"
   ]
  },
  {
   "cell_type": "code",
   "execution_count": 12,
   "metadata": {},
   "outputs": [
    {
     "name": "stdout",
     "output_type": "stream",
     "text": [
      "Cleaned Data: [[1. 2. 3.]\n",
      " [7. 8. 9.]]\n",
      "cleaned_data [[1. 2. 3.]\n",
      " [4. 0. 6.]\n",
      " [7. 8. 9.]]\n"
     ]
    }
   ],
   "source": [
    "data = np.array([[1,2,3],[4,np.nan,6],[7,8,9]])\n",
    "cleaned_data = data[~np.any(np.isnan(data),axis=1)]\n",
    "print(\"Cleaned Data:\", cleaned_data)\n",
    "cleaned_data = np.nan_to_num(data)\n",
    "print('cleaned_data',cleaned_data)"
   ]
  },
  {
   "cell_type": "markdown",
   "metadata": {},
   "source": [
    "## numpy for statistics analysis"
   ]
  },
  {
   "cell_type": "code",
   "execution_count": null,
   "metadata": {},
   "outputs": [],
   "source": []
  }
 ],
 "metadata": {
  "kernelspec": {
   "display_name": "Python 3",
   "language": "python",
   "name": "python3"
  },
  "language_info": {
   "codemirror_mode": {
    "name": "ipython",
    "version": 3
   },
   "file_extension": ".py",
   "mimetype": "text/x-python",
   "name": "python",
   "nbconvert_exporter": "python",
   "pygments_lexer": "ipython3",
   "version": "3.12.1"
  }
 },
 "nbformat": 4,
 "nbformat_minor": 2
}
