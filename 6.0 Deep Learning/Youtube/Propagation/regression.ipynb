{
 "cells": [
  {
   "cell_type": "code",
   "execution_count": 150,
   "metadata": {},
   "outputs": [],
   "source": [
    "import numpy as np\n",
    "import pandas as pd"
   ]
  },
  {
   "cell_type": "code",
   "execution_count": 151,
   "metadata": {},
   "outputs": [],
   "source": [
    "df = pd.DataFrame([[8,8,4],[7,9,5],[6,10,6],[5,12,7]], columns=['cgpa', 'profile_score', 'lpa'])"
   ]
  },
  {
   "cell_type": "code",
   "execution_count": 152,
   "metadata": {},
   "outputs": [
    {
     "data": {
      "text/html": [
       "<div>\n",
       "<style scoped>\n",
       "    .dataframe tbody tr th:only-of-type {\n",
       "        vertical-align: middle;\n",
       "    }\n",
       "\n",
       "    .dataframe tbody tr th {\n",
       "        vertical-align: top;\n",
       "    }\n",
       "\n",
       "    .dataframe thead th {\n",
       "        text-align: right;\n",
       "    }\n",
       "</style>\n",
       "<table border=\"1\" class=\"dataframe\">\n",
       "  <thead>\n",
       "    <tr style=\"text-align: right;\">\n",
       "      <th></th>\n",
       "      <th>cgpa</th>\n",
       "      <th>profile_score</th>\n",
       "      <th>lpa</th>\n",
       "    </tr>\n",
       "  </thead>\n",
       "  <tbody>\n",
       "    <tr>\n",
       "      <th>0</th>\n",
       "      <td>8</td>\n",
       "      <td>8</td>\n",
       "      <td>4</td>\n",
       "    </tr>\n",
       "    <tr>\n",
       "      <th>1</th>\n",
       "      <td>7</td>\n",
       "      <td>9</td>\n",
       "      <td>5</td>\n",
       "    </tr>\n",
       "    <tr>\n",
       "      <th>2</th>\n",
       "      <td>6</td>\n",
       "      <td>10</td>\n",
       "      <td>6</td>\n",
       "    </tr>\n",
       "    <tr>\n",
       "      <th>3</th>\n",
       "      <td>5</td>\n",
       "      <td>12</td>\n",
       "      <td>7</td>\n",
       "    </tr>\n",
       "  </tbody>\n",
       "</table>\n",
       "</div>"
      ],
      "text/plain": [
       "   cgpa  profile_score  lpa\n",
       "0     8              8    4\n",
       "1     7              9    5\n",
       "2     6             10    6\n",
       "3     5             12    7"
      ]
     },
     "execution_count": 152,
     "metadata": {},
     "output_type": "execute_result"
    }
   ],
   "source": [
    "df"
   ]
  },
  {
   "cell_type": "code",
   "execution_count": 153,
   "metadata": {},
   "outputs": [],
   "source": [
    "def initialize_parmeters(layer_dims):\n",
    "    np.random.seed(3)\n",
    "    parametrs  = {}\n",
    "    L = len(layer_dims)\n",
    "    for l in range(1,L):\n",
    "        parametrs['W' + str(l)] = np.random.randn(layer_dims[l], layer_dims[l-1]) * 0.01\n",
    "        parametrs['b' + str(l)] = np.zeros((layer_dims[l], 1))\n",
    "    return parametrs"
   ]
  },
  {
   "cell_type": "code",
   "execution_count": 154,
   "metadata": {},
   "outputs": [
    {
     "data": {
      "text/plain": [
       "{'W1': array([[ 0.01788628,  0.0043651 ],\n",
       "        [ 0.00096497, -0.01863493]]),\n",
       " 'b1': array([[0.],\n",
       "        [0.]]),\n",
       " 'W2': array([[-0.00277388, -0.00354759]]),\n",
       " 'b2': array([[0.]])}"
      ]
     },
     "execution_count": 154,
     "metadata": {},
     "output_type": "execute_result"
    }
   ],
   "source": [
    "initialize_parmeters([2,2,1])"
   ]
  },
  {
   "cell_type": "code",
   "execution_count": 155,
   "metadata": {},
   "outputs": [],
   "source": [
    "def linear_forward(A_prev, W, b):\n",
    "    z = np.dot(W.T,A_prev) + b\n",
    "    #cache = (A_prev, W, b)\n",
    "    return z"
   ]
  },
  {
   "cell_type": "code",
   "execution_count": 156,
   "metadata": {},
   "outputs": [],
   "source": [
    "def L_layer_forward(X,parameters):\n",
    "    A = X\n",
    "    L = len(parameters) // 2\n",
    "    for l in range(1,L):\n",
    "        A_prev = A\n",
    "        W = parameters['W' + str(l)]\n",
    "        b = parameters['b' + str(l)]\n",
    "        A= linear_forward(A_prev, W, b)\n",
    "    return A, A_prev"
   ]
  },
  {
   "cell_type": "code",
   "execution_count": 157,
   "metadata": {},
   "outputs": [],
   "source": [
    "X = df[['cgpa','profile_score']].values[0].reshape(2,1)\n",
    "y = df[['lpa']].values[0][0]\n",
    "parameters = initialize_parmeters([2,2,1])\n",
    "y_hat , A1 = L_layer_forward(X,parameters)"
   ]
  },
  {
   "cell_type": "code",
   "execution_count": 158,
   "metadata": {},
   "outputs": [
    {
     "data": {
      "text/plain": [
       "0.15081007532018617"
      ]
     },
     "execution_count": 158,
     "metadata": {},
     "output_type": "execute_result"
    }
   ],
   "source": [
    "y_hat = y_hat[0][0]\n",
    "y_hat"
   ]
  },
  {
   "cell_type": "code",
   "execution_count": 159,
   "metadata": {},
   "outputs": [],
   "source": [
    "def update_parameters(parameters,y,y_hat,A1,X):\n",
    "  parameters['W2'][0][0] = parameters['W2'][0][0] + (0.001 * 2 * (y - y_hat)*A1[0][0])\n",
    "  parameters['W2'][0][1] = parameters['W2'][0][1] + (0.001 * 2 * (y - y_hat)*A1[1][0])\n",
    "  parameters['b2'][0][0] = parameters['W2'][0][1] + (0.001 * 2 * (y - y_hat))\n",
    "\n",
    "  parameters['W1'][0][0] = parameters['W1'][0][0] + (0.001 * 2 * (y - y_hat)*parameters['W2'][0][0]*X[0][0])\n",
    "  parameters['W1'][0][1] = parameters['W1'][0][1] + (0.001 * 2 * (y - y_hat)*parameters['W2'][0][0]*X[1][0])\n",
    "  parameters['b1'][0][0] = parameters['b1'][0][0] + (0.001 * 2 * (y - y_hat)*parameters['W2'][0][0])\n",
    "\n",
    "  parameters['W1'][1][0] = parameters['W1'][1][0] + (0.001 * 2 * (y - y_hat)*parameters['W2'][0][1]*X[0][0])\n",
    "  parameters['W1'][1][1] = parameters['W1'][1][1] + (0.001 * 2 * (y - y_hat)*parameters['W2'][0][1]*X[1][0])\n",
    "  parameters['b1'][1][0] = parameters['b1'][1][0] + (0.001 * 2 * (y - y_hat)*parameters['W2'][0][1])"
   ]
  },
  {
   "cell_type": "code",
   "execution_count": 160,
   "metadata": {},
   "outputs": [
    {
     "data": {
      "text/plain": [
       "{'W1': array([[ 0.02150841,  0.00798723],\n",
       "        [ 0.00453945, -0.01506045]]),\n",
       " 'b1': array([[0.00045277],\n",
       "        [0.00044681]]),\n",
       " 'W2': array([[0.05881316, 0.05803945]]),\n",
       " 'b2': array([[0.06573783]])}"
      ]
     },
     "execution_count": 160,
     "metadata": {},
     "output_type": "execute_result"
    }
   ],
   "source": [
    "X = df[['cgpa','profile_score']].values[0].reshape(2,1)\n",
    "y = df[['lpa']].values[0][0]\n",
    "parameters = initialize_parmeters([2,2,1])\n",
    "y_hat , A1 = L_layer_forward(X,parameters)\n",
    "y_hat = y_hat[0][0]\n",
    "update_parameters(parameters,y,y_hat,A1,X)\n",
    "parameters"
   ]
  },
  {
   "cell_type": "code",
   "execution_count": 165,
   "metadata": {},
   "outputs": [
    {
     "data": {
      "text/plain": [
       "{'W1': array([[0.05822696, 0.05519678],\n",
       "        [0.0483273 , 0.04123821]]),\n",
       " 'b1': array([[0.00569827],\n",
       "        [0.00670222]]),\n",
       " 'W2': array([[0.25347768, 0.30832241]]),\n",
       " 'b2': array([[0.31719557]])}"
      ]
     },
     "execution_count": 165,
     "metadata": {},
     "output_type": "execute_result"
    }
   ],
   "source": [
    "X = df[['cgpa', 'profile_score']].values[1].reshape(2,1) # Shape(no of features, no. of training exaplme)\n",
    "y = df[['lpa']].values[1][0]\n",
    "\n",
    "y_hat,A1 = L_layer_forward(X,parameters)\n",
    "y_hat = y_hat[0][0]\n",
    "\n",
    "update_parameters(parameters,y,y_hat,A1,X)\n",
    "\n",
    "parameters"
   ]
  },
  {
   "cell_type": "code",
   "execution_count": 166,
   "metadata": {},
   "outputs": [
    {
     "name": "stdout",
     "output_type": "stream",
     "text": [
      "Epoch: 0 Loss: 27.769693789298636\n",
      "Epoch: 1 Loss: 16.125465136070982\n",
      "Epoch: 2 Loss: 6.181236485977545\n",
      "Epoch: 3 Loss: 2.1927814450146683\n",
      "Epoch: 4 Loss: 1.1589456690068825\n",
      "Epoch: 5 Loss: 0.957286276713383\n",
      "Epoch: 6 Loss: 0.929188348273573\n",
      "Epoch: 7 Loss: 0.9298495116032108\n",
      "Epoch: 8 Loss: 0.9335624042494737\n",
      "Epoch: 9 Loss: 0.9368874484919725\n",
      "Epoch: 10 Loss: 0.939767810617193\n",
      "Epoch: 11 Loss: 0.9424271016252488\n",
      "Epoch: 12 Loss: 0.9450011983116091\n",
      "Epoch: 13 Loss: 0.9475534713394385\n",
      "Epoch: 14 Loss: 0.9501110078242645\n",
      "Epoch: 15 Loss: 0.9526848923149066\n",
      "Epoch: 16 Loss: 0.9552795066476091\n",
      "Epoch: 17 Loss: 0.9578965057485842\n",
      "Epoch: 18 Loss: 0.9605364600096704\n",
      "Epoch: 19 Loss: 0.9631995186570228\n",
      "Epoch: 20 Loss: 0.9658856727600396\n",
      "Epoch: 21 Loss: 0.9685948576689086\n",
      "Epoch: 22 Loss: 0.9713269921593326\n",
      "Epoch: 23 Loss: 0.9740819930431783\n",
      "Epoch: 24 Loss: 0.9768597804282153\n",
      "Epoch: 25 Loss: 0.9796602794768249\n",
      "Epoch: 26 Loss: 0.9824834208805024\n",
      "Epoch: 27 Loss: 0.9853291408762344\n",
      "Epoch: 28 Loss: 0.9881973811072652\n",
      "Epoch: 29 Loss: 0.9910880884369163\n"
     ]
    },
    {
     "data": {
      "text/plain": [
       "{'W1': array([[0.27160624, 0.82971257],\n",
       "        [0.39026175, 1.46258509]]),\n",
       " 'b1': array([[0.06391382],\n",
       "        [0.1100756 ]]),\n",
       " 'W2': array([[0.67670627, 1.68272619]]),\n",
       " 'b2': array([[1.68507232]])}"
      ]
     },
     "execution_count": 166,
     "metadata": {},
     "output_type": "execute_result"
    }
   ],
   "source": [
    "# epoch implementation\n",
    "parameters = initialize_parmeters([2,2,1])\n",
    "epoch = 30\n",
    "for i in range(epoch):\n",
    "    Loss =[]\n",
    "    for j in range(df.shape[0]):\n",
    "        X = df[['cgpa', 'profile_score']].values[j].reshape(2,1)\n",
    "        y = df[['lpa']].values[j][0]\n",
    "        y_hat,A1 = L_layer_forward(X,parameters)\n",
    "        y_hat = y_hat[0][0]\n",
    "        update_parameters(parameters,y,y_hat,A1,X)\n",
    "        Loss.append((y - y_hat)**2)\n",
    "    print('Epoch:',i,'Loss:',np.mean(Loss))\n",
    "parameters"
   ]
  },
  {
   "cell_type": "code",
   "execution_count": null,
   "metadata": {},
   "outputs": [],
   "source": []
  }
 ],
 "metadata": {
  "kernelspec": {
   "display_name": "Python 3",
   "language": "python",
   "name": "python3"
  },
  "language_info": {
   "codemirror_mode": {
    "name": "ipython",
    "version": 3
   },
   "file_extension": ".py",
   "mimetype": "text/x-python",
   "name": "python",
   "nbconvert_exporter": "python",
   "pygments_lexer": "ipython3",
   "version": "3.12.3"
  }
 },
 "nbformat": 4,
 "nbformat_minor": 2
}
