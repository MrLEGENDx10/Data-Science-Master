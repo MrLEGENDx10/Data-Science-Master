{
 "cells": [
  {
   "cell_type": "markdown",
   "metadata": {},
   "source": [
    "## Object oriented programming"
   ]
  },
  {
   "cell_type": "code",
   "execution_count": 1,
   "metadata": {},
   "outputs": [],
   "source": [
    "class test:\n",
    "    pass"
   ]
  },
  {
   "cell_type": "code",
   "execution_count": 2,
   "metadata": {},
   "outputs": [
    {
     "data": {
      "text/plain": [
       "__main__.test"
      ]
     },
     "execution_count": 2,
     "metadata": {},
     "output_type": "execute_result"
    }
   ],
   "source": [
    "a = test()\n",
    "type(a)"
   ]
  },
  {
   "cell_type": "code",
   "execution_count": 3,
   "metadata": {},
   "outputs": [
    {
     "name": "stdout",
     "output_type": "stream",
     "text": [
      "<__main__.test object at 0x000002392C375C40>\n"
     ]
    }
   ],
   "source": [
    "print(a)"
   ]
  },
  {
   "cell_type": "code",
   "execution_count": 5,
   "metadata": {},
   "outputs": [],
   "source": [
    "class pwskills:\n",
    "    def  welcome_msg ():\n",
    "        print(\"welcome in skills world\")"
   ]
  },
  {
   "cell_type": "markdown",
   "metadata": {},
   "source": [
    "The code you provided defines a class named `pwskills` with a method `welcome_msg`. This method, when called, prints the string \"welcome in skills world\".\n",
    "\n",
    "However, there's a key aspect missing in this method definition: the `self` parameter. In Python, the `self` parameter is a reference to the current instance of the class and is used to access variables that belong to the class.\n",
    "\n",
    "Without the `self` parameter, `welcome_msg` is essentially a static method. That means it belongs to the class and not the instance of the class, and it can't modify the class state. It can be called on the class itself, like this: `pwskills.welcome_msg()`.\n",
    "\n",
    "Here's how you would typically define a method within a class in Python:\n",
    "\n",
    "```python\n",
    "class pwskills:\n",
    "    def welcome_msg(self):\n",
    "        print(\"welcome in skills world\")\n",
    "```\n",
    "\n",
    "Now, `welcome_msg` is an instance method, which means it is bound to the instance of the class, not the class itself. You would call it on an instance of the class, like this:\n",
    "\n",
    "```python\n",
    "p = pwskills()\n",
    "p.welcome_msg()\n",
    "```\n",
    "\n",
    "In this code, `p` is an instance of the `pwskills` class, and `p.welcome_msg()` calls the `welcome_msg` method on that instance. Because `welcome_msg` has `self` as a parameter, it could access and modify other attributes of the `p` instance if there were any."
   ]
  },
  {
   "cell_type": "code",
   "execution_count": 6,
   "metadata": {},
   "outputs": [],
   "source": [
    "student = pwskills()"
   ]
  },
  {
   "cell_type": "code",
   "execution_count": 8,
   "metadata": {},
   "outputs": [
    {
     "data": {
      "text/plain": [
       "<bound method pwskills.welcome_msg of <__main__.pwskills object at 0x000002393281A4B0>>"
      ]
     },
     "execution_count": 8,
     "metadata": {},
     "output_type": "execute_result"
    }
   ],
   "source": [
    "student.welcome_msg"
   ]
  },
  {
   "cell_type": "code",
   "execution_count": 10,
   "metadata": {},
   "outputs": [
    {
     "name": "stdout",
     "output_type": "stream",
     "text": [
      "welcome in skills world\n"
     ]
    }
   ],
   "source": [
    "pwskills.welcome_msg()"
   ]
  },
  {
   "cell_type": "code",
   "execution_count": 13,
   "metadata": {},
   "outputs": [],
   "source": [
    "class pwskills:\n",
    "    def welcome_msg(self):\n",
    "        print(\"welcome\")"
   ]
  },
  {
   "cell_type": "code",
   "execution_count": 15,
   "metadata": {},
   "outputs": [
    {
     "name": "stdout",
     "output_type": "stream",
     "text": [
      "welcome\n"
     ]
    }
   ],
   "source": [
    "pwskills.welcome_msg(\"dd\")"
   ]
  },
  {
   "cell_type": "code",
   "execution_count": 16,
   "metadata": {},
   "outputs": [],
   "source": [
    "class pwskills1:\n",
    "    def __init__(self) -> None:\n",
    "        pass"
   ]
  },
  {
   "cell_type": "code",
   "execution_count": 17,
   "metadata": {},
   "outputs": [],
   "source": [
    "dummy = pwskills1()"
   ]
  },
  {
   "cell_type": "code",
   "execution_count": 20,
   "metadata": {},
   "outputs": [],
   "source": [
    "class pwskills2:\n",
    "    def __init__ (self,phone_number,email,student_id):\n",
    "        self.phone_number = phone_number\n",
    "        self.email = email\n",
    "        self.student_id = student_id\n",
    "    \n",
    "    def return_student_details(self):\n",
    "        return self.phone_number , self.email , self.phone_number\n"
   ]
  },
  {
   "cell_type": "code",
   "execution_count": 25,
   "metadata": {},
   "outputs": [],
   "source": [
    "student = pwskills2(123456789,\"damodarryadav@gmail.com\",123456789)"
   ]
  },
  {
   "cell_type": "code",
   "execution_count": 26,
   "metadata": {},
   "outputs": [
    {
     "data": {
      "text/plain": [
       "(123456789, 'damodarryadav@gmail.com', 123456789)"
      ]
     },
     "execution_count": 26,
     "metadata": {},
     "output_type": "execute_result"
    }
   ],
   "source": [
    "student.return_student_details()"
   ]
  },
  {
   "cell_type": "markdown",
   "metadata": {},
   "source": [
    "# Inheritance "
   ]
  },
  {
   "cell_type": "code",
   "execution_count": 27,
   "metadata": {},
   "outputs": [],
   "source": [
    "class parent:\n",
    "    def test_parent(self):\n",
    "        print(\"this is parent class\")"
   ]
  },
  {
   "cell_type": "code",
   "execution_count": 28,
   "metadata": {},
   "outputs": [],
   "source": [
    "class child(parent):\n",
    "    pass"
   ]
  },
  {
   "cell_type": "code",
   "execution_count": 30,
   "metadata": {},
   "outputs": [],
   "source": [
    "child_obj = child()"
   ]
  },
  {
   "cell_type": "code",
   "execution_count": 31,
   "metadata": {},
   "outputs": [
    {
     "name": "stdout",
     "output_type": "stream",
     "text": [
      "this is parent class\n"
     ]
    }
   ],
   "source": [
    "child_obj.test_parent()"
   ]
  },
  {
   "cell_type": "code",
   "execution_count": 32,
   "metadata": {},
   "outputs": [],
   "source": [
    "class grand_child(child):\n",
    "    pass\n"
   ]
  },
  {
   "cell_type": "code",
   "execution_count": 33,
   "metadata": {},
   "outputs": [],
   "source": [
    "grand_child_obj = grand_child()"
   ]
  },
  {
   "cell_type": "code",
   "execution_count": 34,
   "metadata": {},
   "outputs": [
    {
     "name": "stdout",
     "output_type": "stream",
     "text": [
      "this is parent class\n"
     ]
    }
   ],
   "source": [
    "grand_child_obj.test_parent()"
   ]
  },
  {
   "cell_type": "code",
   "execution_count": 35,
   "metadata": {},
   "outputs": [],
   "source": [
    "class grand_grand_child(grand_child):\n",
    "    pass"
   ]
  },
  {
   "cell_type": "code",
   "execution_count": 36,
   "metadata": {},
   "outputs": [],
   "source": [
    "grand_grand_child_obj = grand_grand_child()"
   ]
  },
  {
   "cell_type": "code",
   "execution_count": 37,
   "metadata": {},
   "outputs": [
    {
     "name": "stdout",
     "output_type": "stream",
     "text": [
      "this is parent class\n"
     ]
    }
   ],
   "source": [
    "grand_grand_child_obj.test_parent()"
   ]
  },
  {
   "cell_type": "code",
   "execution_count": 17,
   "metadata": {},
   "outputs": [],
   "source": [
    "class parent:\n",
    "    def __init__(self,name):\n",
    "        self.name = name\n",
    "        # __init__() should return None, not 'tuple'\n",
    "        # return self.phone_number , self.email , self.phone_number\n",
    "    \n",
    "    def return_student_details_by_parent(self):\n",
    "        return self.name"
   ]
  },
  {
   "cell_type": "code",
   "execution_count": 3,
   "metadata": {},
   "outputs": [],
   "source": [
    "parent_obj = parent(123456789,\"dmao@gmai.com\",123456789)"
   ]
  },
  {
   "cell_type": "code",
   "execution_count": 27,
   "metadata": {},
   "outputs": [],
   "source": [
    "class parent:\n",
    "    def __init__(self,name):\n",
    "        self.name = name\n",
    "        # __init__() should return None, not 'tuple'\n",
    "        # return self.phone_number , self.email , self.phone_number\n",
    "    \n",
    "    def return_student_details_by_parent(self):\n",
    "        return self.name\n",
    "\n",
    "\n",
    "class child(parent):\n",
    "    def __init__(self,id,name) -> None:\n",
    "        super().__init__(name)\n",
    "        self.id = id\n",
    "\n",
    "    def return_student_details(self):\n",
    "        return self.id\n",
    "    "
   ]
  },
  {
   "cell_type": "code",
   "execution_count": 28,
   "metadata": {},
   "outputs": [],
   "source": [
    "child_obj = child(88, \"name_goes_tparent\")\n"
   ]
  },
  {
   "cell_type": "code",
   "execution_count": 29,
   "metadata": {},
   "outputs": [
    {
     "data": {
      "text/plain": [
       "'name_goes_tparent'"
      ]
     },
     "execution_count": 29,
     "metadata": {},
     "output_type": "execute_result"
    }
   ],
   "source": [
    "child_obj.return_student_details_by_parent()"
   ]
  },
  {
   "cell_type": "code",
   "execution_count": 30,
   "metadata": {},
   "outputs": [
    {
     "data": {
      "text/plain": [
       "88"
      ]
     },
     "execution_count": 30,
     "metadata": {},
     "output_type": "execute_result"
    }
   ],
   "source": [
    "child_obj.return_student_details()"
   ]
  },
  {
   "cell_type": "markdown",
   "metadata": {},
   "source": [
    "# Polyphormism"
   ]
  },
  {
   "cell_type": "markdown",
   "metadata": {},
   "source": [
    "Polymorphism is a fundamental concept in  object-oriented programming. It refers to the ability of an object to take on many forms. The most common use of polymorphism in OOP occurs when a parent class reference is used to refer to a child class object.\n",
    "\n",
    "In Python, polymorphism allows us to define methods in the child class with the same name as defined in their parent class. As we know, a child class inherits all the methods from the parent class. However, if you want to modify a method in a child class that is already defined in the parent class, you can do so by defining it again with the same name. This process is known as Method Overriding. \n",
    "\n",
    "Furthermore, Python allows for polymorphism to be used without inheritance via \"duck typing\". This concept allows you to use any object that provides the required behavior without forcing it to be a subclass.\n",
    "\n",
    "Here's an example of polymorphism in Python:\n",
    "\n",
    "```python\n",
    "class Bird:\n",
    "    def intro(self):\n",
    "        print(\"There are many types of birds.\")\n",
    "      \n",
    "    def flight(self):\n",
    "        print(\"Most of the birds can fly but some cannot.\")\n",
    "   \n",
    "class sparrow(Bird):\n",
    "    def flight(self):\n",
    "        print(\"Sparrows can fly.\")\n",
    "         \n",
    "class ostrich(Bird):\n",
    "    def flight(self):\n",
    "        print(\"Ostriches cannot fly.\")\n",
    "         \n",
    "obj_bird = Bird()\n",
    "obj_spr = sparrow()\n",
    "obj_ost = ostrich()\n",
    "  \n",
    "obj_bird.intro()\n",
    "obj_bird.flight()\n",
    "  \n",
    "obj_spr.intro()\n",
    "obj_spr.flight()\n",
    "  \n",
    "obj_ost.intro()\n",
    "obj_ost.flight()\n",
    "```\n",
    "\n",
    "In this example, we have two subclasses `sparrow` and `ostrich` inheriting the `Bird` class. Both subclasses have a `flight` method that overrides the `flight` method in the `Bird` class. When we call the `flight` method on an object of the `sparrow` or `ostrich` class, the `flight` method of the respective class is called, demonstrating polymorphismu"
   ]
  },
  {
   "cell_type": "code",
   "execution_count": 4,
   "metadata": {},
   "outputs": [],
   "source": [
    "class Birds:\n",
    "    def intro(self):\n",
    "        print(\"There are many types of birds.\")\n",
    "    \n",
    "    def flight(self):\n",
    "        print(\"Most of the birds can fly but some cannot.\")\n",
    "\n",
    "class sparrow(Birds):\n",
    "    def flight(self):\n",
    "        print(\"Sparrows can fly.\")\n",
    "\n",
    "class ostrich(Birds):\n",
    "    def flight(self):\n",
    "        print(\"Ostriches cannot fly.\")"
   ]
  },
  {
   "cell_type": "code",
   "execution_count": 5,
   "metadata": {},
   "outputs": [],
   "source": [
    "bird_obj=Birds()\n",
    "sparrow_obj= sparrow()\n",
    "ostrich_obj = ostrich()"
   ]
  },
  {
   "cell_type": "code",
   "execution_count": 7,
   "metadata": {},
   "outputs": [
    {
     "name": "stdout",
     "output_type": "stream",
     "text": [
      "There are many types of birds.\n",
      "Most of the birds can fly but some cannot.\n",
      "There are many types of birds.\n",
      "Sparrows can fly.\n",
      "There are many types of birds.\n",
      "Ostriches cannot fly.\n",
      "None None None None None None\n"
     ]
    }
   ],
   "source": [
    "print(\n",
    "    bird_obj.intro(),\n",
    "    bird_obj.flight(),\n",
    "    sparrow_obj.intro(),\n",
    "    sparrow_obj.flight(),\n",
    "    ostrich_obj.intro(),\n",
    "    ostrich_obj.flight(),\n",
    ")"
   ]
  },
  {
   "cell_type": "code",
   "execution_count": 22,
   "metadata": {},
   "outputs": [
    {
     "name": "stdout",
     "output_type": "stream",
     "text": [
      "this is data science syllabus\n"
     ]
    }
   ],
   "source": [
    "class data_science:\n",
    "    def syllabus(self):\n",
    "        print(\"this is data science syllabus\")\n",
    "\n",
    "class web_dev:\n",
    "    def syllabus(self):\n",
    "        print(\"this is web dev syllabus\")\n",
    "\n",
    "def class_parcel(class_obj):\n",
    "    for i in class_obj:\n",
    "        i.syllabus()\n",
    "\n",
    "class_obj = [data_science()]\n",
    "class_parcel(class_obj)"
   ]
  },
  {
   "cell_type": "markdown",
   "metadata": {},
   "source": [
    "# Abstraction"
   ]
  },
  {
   "cell_type": "code",
   "execution_count": 29,
   "metadata": {},
   "outputs": [
    {
     "ename": "TypeError",
     "evalue": "Can't instantiate abstract class AnotherSubclass without an implementation for abstract method 'do_something'",
     "output_type": "error",
     "traceback": [
      "\u001b[1;31m---------------------------------------------------------------------------\u001b[0m",
      "\u001b[1;31mTypeError\u001b[0m                                 Traceback (most recent call last)",
      "Cell \u001b[1;32mIn[29], line 14\u001b[0m\n\u001b[0;32m     10\u001b[0m         \u001b[38;5;28msuper\u001b[39m()\u001b[38;5;241m.\u001b[39mdo_something()\n\u001b[0;32m     11\u001b[0m         \u001b[38;5;28mprint\u001b[39m(\u001b[38;5;124m\"\u001b[39m\u001b[38;5;124mThe subclass is doing something\u001b[39m\u001b[38;5;124m\"\u001b[39m)\n\u001b[1;32m---> 14\u001b[0m x \u001b[38;5;241m=\u001b[39m \u001b[43mAnotherSubclass\u001b[49m\u001b[43m(\u001b[49m\u001b[43m)\u001b[49m\n\u001b[0;32m     15\u001b[0m x\u001b[38;5;241m.\u001b[39mdo_something()\n",
      "\u001b[1;31mTypeError\u001b[0m: Can't instantiate abstract class AnotherSubclass without an implementation for abstract method 'do_something'"
     ]
    }
   ],
   "source": [
    "from abc import ABC, abstractmethod\n",
    "\n",
    "class AbstractClassExample(ABC):\n",
    "    @abstractmethod\n",
    "    def do_something(self):\n",
    "        pass\n",
    "\n",
    "class AnotherSubclass(AbstractClassExample):\n",
    "    def do(self):\n",
    "        super().do_something()\n",
    "        print(\"The subclass is doing something\")\n",
    "\n",
    "\n",
    "x = AnotherSubclass()\n",
    "x.do_something()\n",
    "\n",
    "## see next cell"
   ]
  },
  {
   "cell_type": "markdown",
   "metadata": {},
   "source": [
    "The error message you're seeing is because you have an abstract method `do_something` in your abstract base class `AbstractClassExample`, but you haven't provided an implementation for this method in your subclass `AnotherSubclass`.\n",
    "\n",
    "In Python, if a class inherits from an abstract base class and does not implement all the abstract methods of the base class, it also becomes an abstract class and cannot be instantiated.\n",
    "\n",
    "To fix this issue, you need to implement the `do_something` method in your `AnotherSubclass`. Here's how you can do it:\n",
    "\n",
    "```python\n",
    "from abc import ABC, abstractmethod\n",
    "\n",
    "class AbstractClassExample(ABC):\n",
    "    @abstractmethod\n",
    "    def do_something(self):\n",
    "        pass\n",
    "\n",
    "class AnotherSubclass(AbstractClassExample):\n",
    "    def do_something(self):\n",
    "        print(\"The subclass is doing something\")\n",
    "\n",
    "    def do(self):\n",
    "        super().do_something()\n",
    "\n",
    "x = AnotherSubclass()\n",
    "x.do()\n",
    "```\n",
    "\n",
    "In this corrected code, the `do_something` method is implemented in the `AnotherSubclass`, and the `do` method calls the `do_something` method using the `super()` function."
   ]
  },
  {
   "cell_type": "code",
   "execution_count": 31,
   "metadata": {},
   "outputs": [],
   "source": [
    "from abc import  abstractmethod"
   ]
  },
  {
   "cell_type": "code",
   "execution_count": 39,
   "metadata": {},
   "outputs": [],
   "source": [
    "class Pwskills:\n",
    "\n",
    "    @abstractmethod\n",
    "    def student_details(self):\n",
    "        pass\n",
    "\n",
    "    @abstractmethod\n",
    "    def student_assignment(self):\n",
    "        pass\n",
    "\n",
    "    @abstractmethod\n",
    "    def student_marks(self):\n",
    "        pass"
   ]
  },
  {
   "cell_type": "code",
   "execution_count": 40,
   "metadata": {},
   "outputs": [],
   "source": [
    "class data_science(Pwskills):\n",
    "\n",
    "    def student_details(self):\n",
    "        return \"it will try to return student details of data science\"\n",
    "    \n",
    "    def student_assignment(self):\n",
    "        super().student_assignment()\n",
    "        return \"it will try to return student assignment of data science\""
   ]
  },
  {
   "cell_type": "code",
   "execution_count": 46,
   "metadata": {},
   "outputs": [
    {
     "data": {
      "text/plain": [
       "'it will try to return student details of data science'"
      ]
     },
     "execution_count": 46,
     "metadata": {},
     "output_type": "execute_result"
    }
   ],
   "source": [
    "data_science_obj = data_science()\n",
    "data_science_obj.student_assignment()\n",
    "data_science_obj.student_details()"
   ]
  },
  {
   "cell_type": "code",
   "execution_count": 45,
   "metadata": {},
   "outputs": [],
   "source": [
    "class web_dev(Pwskills):\n",
    "\n",
    "    def student_details(self):\n",
    "        return \"it will try to return student details of web dev\"\n",
    "    \n",
    "    def student_assignment(self):\n",
    "        super().student_assignment()"
   ]
  },
  {
   "cell_type": "code",
   "execution_count": 43,
   "metadata": {},
   "outputs": [],
   "source": [
    "web_dev_obj = web_dev()\n",
    "web_dev_obj.student_assignment()"
   ]
  },
  {
   "cell_type": "markdown",
   "metadata": {},
   "source": [
    "# Encapsulation"
   ]
  },
  {
   "cell_type": "markdown",
   "metadata": {},
   "source": [
    "Encapsulation is one of the fundamental concepts in object-oriented programming (OOP). It describes the idea of wrapping data and the methods that work with data within one unit. This puts restrictions on accessing variables and methods directly and can prevent the accidental modification of data.\n",
    "\n",
    "To achieve encapsulation in Python:\n",
    "\n",
    "- A class is created using the `class` keyword.\n",
    "- Data is encapsulated by making it private using a double underscore `__`.\n",
    "\n",
    "Here's a simple example of encapsulation:\n",
    "\n",
    "```python\n",
    "class Computer:\n",
    "\n",
    "    def __init__(self):\n",
    "        self.__maxprice = 900\n",
    "\n",
    "    def sell(self):\n",
    "        print(\"Selling Price: {}\".format(self.__maxprice))\n",
    "\n",
    "    def setMaxPrice(self, price):\n",
    "        self.__maxprice = price\n",
    "\n",
    "c = Computer()\n",
    "c.sell()\n",
    "\n",
    "# change the price\n",
    "c.__maxprice = 1000\n",
    "c.sell()\n",
    "\n",
    "# using setter function\n",
    "c.setMaxPrice(1000)\n",
    "c.sell()\n",
    "```\n",
    "\n",
    "In the script above, we defined a `Computer` class.\n",
    "\n",
    "We are using the `__init__()` method to store the maximum selling price of `Computer`. We tried to modify the price. However, we can't change it because Python treats the `__maxprice` as private attributes. To change the value, we used a setter method `setMaxPrice()` where we can set the price. Thus, we can restrict the access to important methods that are prone to be altered causing potential harm to the process flow."
   ]
  },
  {
   "cell_type": "code",
   "execution_count": 2,
   "metadata": {},
   "outputs": [
    {
     "name": "stdout",
     "output_type": "stream",
     "text": [
      "Selling Price: 900\n"
     ]
    }
   ],
   "source": [
    "class Computer:\n",
    "    \n",
    "    def __init__(self):\n",
    "        self.__maxprice = 900\n",
    "\n",
    "    def sell(self):\n",
    "        print(\"Selling Price: {}\".format(self.__maxprice))\n",
    "\n",
    "    def setMaxPrice(self,price):\n",
    "        self.__maxprice = price\n",
    "    \n",
    "c = Computer()\n",
    "c.sell()"
   ]
  },
  {
   "cell_type": "code",
   "execution_count": 3,
   "metadata": {},
   "outputs": [
    {
     "name": "stdout",
     "output_type": "stream",
     "text": [
      "Selling Price: 900\n"
     ]
    }
   ],
   "source": [
    "c.__maxprice=1000\n",
    "c.sell()"
   ]
  },
  {
   "cell_type": "code",
   "execution_count": 4,
   "metadata": {},
   "outputs": [
    {
     "name": "stdout",
     "output_type": "stream",
     "text": [
      "Selling Price: 1000\n"
     ]
    }
   ],
   "source": [
    "c.setMaxPrice(1000)\n",
    "c.sell()"
   ]
  },
  {
   "cell_type": "code",
   "execution_count": null,
   "metadata": {},
   "outputs": [],
   "source": [
    "class Car:\n",
    "    def __init__ (self , year, make , model, speed):\n",
    "        self.year = year\n",
    "        self.make = make\n",
    "        self.model = model\n",
    "        self.speed = speed\n",
    "\n",
    "    def set_speed(self, speed):\n",
    "        self.speed = speed\n",
    "    \n",
    "    def get_speed(self):"
   ]
  }
 ],
 "metadata": {
  "kernelspec": {
   "display_name": "Python 3",
   "language": "python",
   "name": "python3"
  },
  "language_info": {
   "codemirror_mode": {
    "name": "ipython",
    "version": 3
   },
   "file_extension": ".py",
   "mimetype": "text/x-python",
   "name": "python",
   "nbconvert_exporter": "python",
   "pygments_lexer": "ipython3",
   "version": "3.12.1"
  }
 },
 "nbformat": 4,
 "nbformat_minor": 2
}
