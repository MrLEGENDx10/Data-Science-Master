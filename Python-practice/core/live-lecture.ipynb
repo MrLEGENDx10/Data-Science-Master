{
 "cells": [
  {
   "cell_type": "code",
   "execution_count": 1,
   "metadata": {},
   "outputs": [
    {
     "name": "stdout",
     "output_type": "stream",
     "text": [
      "hello world my name is eren \n",
      " i will be 20 years old in 2020\n"
     ]
    }
   ],
   "source": [
    "print(\"hello world my name is eren \\n i will be 20 years old in 2020\")"
   ]
  },
  {
   "cell_type": "code",
   "execution_count": 9,
   "metadata": {},
   "outputs": [],
   "source": [
    "string = \"hello world my name is eren  i will be 20 years old in 2020\""
   ]
  },
  {
   "cell_type": "markdown",
   "metadata": {},
   "source": [
    "### slice operation\n",
    "- [ ] [Python slice notation](https://stackoverflow.com/questions/509211/understanding-slice-notation)\n",
    "\n",
    "####  string[start:stop:step]\n",
    "string = \"Hello, World!\"\n",
    "\n",
    " Slice from index 0 to 4\n",
    "print(string[0:5])  # Output: \"Hello\"\n",
    "\n",
    "Slice from index 7 to the end\n",
    "print(string[7:])  # Output: \"World!\"\n",
    "\n",
    "Slice from the start to index 5\n",
    "print(string[:5])  # Output: \"Hello\"\n",
    "\n",
    "Slice from index -1 to -5 in reverse order\n",
    "print(string[-1:-5:-1])  # Output: \"!dlr\"\n",
    "\n",
    "Reverse the string\n",
    "print(string[::-1])  # Output: \"!dlroW ,olleH\"\""
   ]
  },
  {
   "cell_type": "code",
   "execution_count": 7,
   "metadata": {},
   "outputs": [
    {
     "data": {
      "text/plain": [
       "'hello world my '"
      ]
     },
     "execution_count": 7,
     "metadata": {},
     "output_type": "execute_result"
    }
   ],
   "source": [
    "string[0:15]"
   ]
  },
  {
   "cell_type": "code",
   "execution_count": 15,
   "metadata": {},
   "outputs": [
    {
     "data": {
      "text/plain": [
       "' i  nere si eman ym dlrow olleh'"
      ]
     },
     "execution_count": 15,
     "metadata": {},
     "output_type": "execute_result"
    }
   ],
   "source": [
    "string[30::-1]"
   ]
  },
  {
   "cell_type": "code",
   "execution_count": 16,
   "metadata": {},
   "outputs": [
    {
     "data": {
      "text/plain": [
       "'00 idosay0 bli  nr iea mdrwolh'"
      ]
     },
     "execution_count": 16,
     "metadata": {},
     "output_type": "execute_result"
    }
   ],
   "source": [
    "string[::-2]"
   ]
  },
  {
   "cell_type": "code",
   "execution_count": 17,
   "metadata": {},
   "outputs": [],
   "source": [
    "damodar =  \"damodar\""
   ]
  },
  {
   "cell_type": "code",
   "execution_count": 18,
   "metadata": {},
   "outputs": [
    {
     "data": {
      "text/plain": [
       "'damodardamodardamodardamodar'"
      ]
     },
     "execution_count": 18,
     "metadata": {},
     "output_type": "execute_result"
    }
   ],
   "source": [
    "damodar*4"
   ]
  },
  {
   "cell_type": "markdown",
   "metadata": {},
   "source": [
    "### concatenation"
   ]
  },
  {
   "cell_type": "code",
   "execution_count": 20,
   "metadata": {},
   "outputs": [
    {
     "name": "stdout",
     "output_type": "stream",
     "text": [
      "helloworld\n"
     ]
    }
   ],
   "source": [
    "str1 = \"hello\"\n",
    "str2 = \"world\"\n",
    "print(str1 + str2)"
   ]
  },
  {
   "cell_type": "code",
   "execution_count": 21,
   "metadata": {},
   "outputs": [
    {
     "name": "stdout",
     "output_type": "stream",
     "text": [
      "5\n"
     ]
    }
   ],
   "source": [
    "print(len(str1))"
   ]
  },
  {
   "cell_type": "code",
   "execution_count": 22,
   "metadata": {},
   "outputs": [
    {
     "name": "stdout",
     "output_type": "stream",
     "text": [
      "h\n"
     ]
    }
   ],
   "source": [
    "print(str1[0])"
   ]
  },
  {
   "cell_type": "code",
   "execution_count": 24,
   "metadata": {},
   "outputs": [
    {
     "name": "stdout",
     "output_type": "stream",
     "text": [
      "HELLO\n",
      "hello\n",
      "Hello\n",
      "Hello\n",
      "HELLO\n",
      "False\n"
     ]
    }
   ],
   "source": [
    "print(str1.upper())\n",
    "print(str1.lower())\n",
    "print(str1.capitalize())\n",
    "print(str1.title())\n",
    "print(str1.swapcase())\n",
    "print(str1.isupper())\n"
   ]
  },
  {
   "cell_type": "code",
   "execution_count": 27,
   "metadata": {},
   "outputs": [
    {
     "name": "stdout",
     "output_type": "stream",
     "text": [
      "damodar sagar santosh sushil sagar santosh sushil sagar santosh sushil\n",
      "['damodar', 'sagar', 'santosh', 'sushil', 'sagar', 'santosh', 'sushil', 'sagar', 'santosh', 'sushil']\n"
     ]
    }
   ],
   "source": [
    "list1 = [1,2,3,4,5,6,7,8,9,10]\n",
    "list2 = [\"damodar\",\"sagar\",\"santosh\",\"sushil\",\"sagar\",\"santosh\",\"sushil\",\"sagar\",\"santosh\",\"sushil\"]\n",
    "print(\" \".join(list2))\n",
    "print(\" \".join(list2).split())"
   ]
  },
  {
   "cell_type": "code",
   "execution_count": 36,
   "metadata": {},
   "outputs": [
    {
     "name": "stdout",
     "output_type": "stream",
     "text": [
      "['damodar sagar santosh sushil sagar santosh sushil sagar santosh sushil']\n"
     ]
    }
   ],
   "source": [
    "list3 = (\" \".join(list2))\n",
    "print(list3.split(\"-\"))"
   ]
  },
  {
   "cell_type": "code",
   "execution_count": 38,
   "metadata": {},
   "outputs": [],
   "source": [
    "## Replacing method"
   ]
  },
  {
   "cell_type": "code",
   "execution_count": 39,
   "metadata": {},
   "outputs": [
    {
     "name": "stdout",
     "output_type": "stream",
     "text": [
      "Love\n"
     ]
    }
   ],
   "source": [
    "print(str1.replace(\"hello\",'Love'))"
   ]
  },
  {
   "cell_type": "code",
   "execution_count": 42,
   "metadata": {},
   "outputs": [
    {
     "name": "stdout",
     "output_type": "stream",
     "text": [
      "1\n"
     ]
    }
   ],
   "source": [
    "print(str1.count(\"o\"))"
   ]
  },
  {
   "cell_type": "code",
   "execution_count": 44,
   "metadata": {},
   "outputs": [
    {
     "data": {
      "text/plain": [
       "['hello world my name is eren  i will be 20 years old in 2020']"
      ]
     },
     "execution_count": 44,
     "metadata": {},
     "output_type": "execute_result"
    }
   ],
   "source": [
    "# `string.splitlines()` is a method in Python that splits a string into a list of lines. It separates the string at each line break character, such as '\\n' or '\\r\\n', and returns a list of the resulting lines.\n",
    "string.splitlines()"
   ]
  },
  {
   "cell_type": "code",
   "execution_count": 47,
   "metadata": {},
   "outputs": [
    {
     "name": "stdout",
     "output_type": "stream",
     "text": [
      "00000000*\n",
      "0000000***\n",
      "000000*****\n",
      "00000*******\n",
      "0000*********\n",
      "000***********\n",
      "00*************\n",
      "0***************\n",
      "*****************\n"
     ]
    }
   ],
   "source": [
    "size = int(input(\"enter the length of \"))\n",
    "for i in range(size):\n",
    "    print(\"0\"*(size-i-1)+\"*\"*(2*i+1))"
   ]
  },
  {
   "cell_type": "code",
   "execution_count": 49,
   "metadata": {},
   "outputs": [
    {
     "name": "stdout",
     "output_type": "stream",
     "text": [
      " @@@ @@@@ @@@ @@@@ @@@ @@@@ @@@ @@@@ @@@ @@@@ @@@ @@@@\n",
      "@@ @ @@@@@@ @ @@@@@@ @ @@@@@@ @ @@@@@@ @ @@@@@@ @ @@@@\n",
      "@@@@@@@  @@@@@@@  @@@@@@@  @@@@@@@  @@@@@@@  @@@@@@@  \n",
      " @@@@@    @@@@@    @@@@@    @@@@@    @@@@@    @@@@@   \n",
      "  @@@      @@@      @@@      @@@      @@@      @@@    \n",
      "   @        @        @        @        @        @     \n"
     ]
    }
   ],
   "source": [
    "print(\"\\n\".join([i.ljust(8) + i + i.rjust(8) for i in [''.join([(a[(j - i) % len(a)] if ((j // 2) * (j // 2) + (i - len(a)) * (i - len(a)) <= len(a) * len(a)) else ' ') for j in range(-len(a), len(a))]) for a in [['@', ' ', '@', '@', '@', ' ', '@', '@', '@'], ['@', '@', '@', ' ', '@', ' ', '@', '@', '@'], [' ', '@', '@', '@', '@', '@', '@', '@', ' '], [' ', ' ', '@', '@', '@', '@', '@', ' ', ' '], [' ', ' ', ' ', '@', '@', '@', ' ', ' ', ' '], [' ', ' ', ' ', ' ', '@', ' ', ' ', ' ', ' ']]]]))\n"
   ]
  },
  {
   "cell_type": "code",
   "execution_count": 65,
   "metadata": {},
   "outputs": [
    {
     "name": "stdout",
     "output_type": "stream",
     "text": [
      "     * \n",
      "    * * \n",
      "   * * * \n",
      "  * * * * \n",
      " * * * * * \n"
     ]
    }
   ],
   "source": [
    "size = 5\n",
    "for i in range(size):\n",
    "    for j in range(size-i):\n",
    "        print(\"\",end=\" \")\n",
    "    for k in range(i+1):\n",
    "        print(\"*\",end=\" \")\n",
    "    print()\n",
    "    \n",
    "    "
   ]
  },
  {
   "cell_type": "code",
   "execution_count": 69,
   "metadata": {},
   "outputs": [
    {
     "name": "stdout",
     "output_type": "stream",
     "text": [
      "my name is damodar and i am damodar years 20 old\n"
     ]
    }
   ],
   "source": [
    "name = \"damodar\"\n",
    "age = 20\n",
    "print(\"my name is {} and i am  years {} old\".format(name,age))"
   ]
  },
  {
   "cell_type": "code",
   "execution_count": 70,
   "metadata": {},
   "outputs": [
    {
     "name": "stdout",
     "output_type": "stream",
     "text": [
      "you are not eligible\n",
      "you are not eligible\n",
      "you are not eligible\n",
      "you are not eligible\n",
      "you are not eligible\n",
      "you are not eligible\n",
      "you are not eligible\n",
      "you are not eligible\n",
      "you are not eligible\n",
      "you are not eligible\n",
      "you are eligible\n"
     ]
    }
   ],
   "source": [
    "joining_age = 20\n",
    "while joining_age < 30:\n",
    "    print(\"you are not eligible\")\n",
    "    joining_age += 1\n",
    "else:\n",
    "    print(\"you are eligible\")"
   ]
  },
  {
   "cell_type": "code",
   "execution_count": 75,
   "metadata": {},
   "outputs": [
    {
     "name": "stdout",
     "output_type": "stream",
     "text": [
      "[1, 1, 1]\n",
      "2\n",
      "3\n",
      "4\n",
      "5\n",
      "6\n",
      "7\n",
      "8\n",
      "9\n",
      "10\n"
     ]
    }
   ],
   "source": [
    "list1 = [[1,1,1],2,3,4,5,6,7,8,9,10]\n",
    "for i in list1:\n",
    "    print(i)"
   ]
  },
  {
   "cell_type": "code",
   "execution_count": 79,
   "metadata": {},
   "outputs": [
    {
     "name": "stdout",
     "output_type": "stream",
     "text": [
      "1\n",
      "1\n",
      "1\n",
      "2\n",
      "3\n",
      "4\n",
      "5\n",
      "6\n",
      "7\n",
      "8\n",
      "9\n",
      "10\n"
     ]
    }
   ],
   "source": [
    "for i in list1:\n",
    "    if isinstance(i,list):\n",
    "        for j in i:\n",
    "            print(j)\n",
    "    else:\n",
    "            print(i)"
   ]
  },
  {
   "cell_type": "code",
   "execution_count": 2,
   "metadata": {},
   "outputs": [
    {
     "data": {
      "text/plain": [
       "[1, 4, 9, 16, 25, 36, 49, 64, 81, 100]"
      ]
     },
     "execution_count": 2,
     "metadata": {},
     "output_type": "execute_result"
    }
   ],
   "source": [
    "list2 = [1,2,3,4,5,6,7,8,9,10]\n",
    "[num**2 for num in list2]"
   ]
  },
  {
   "cell_type": "code",
   "execution_count": 4,
   "metadata": {},
   "outputs": [
    {
     "data": {
      "text/plain": [
       "['d', 's', 's', 's', 's', 's', 's', 's', 's', 's']"
      ]
     },
     "execution_count": 4,
     "metadata": {},
     "output_type": "execute_result"
    }
   ],
   "source": [
    "words = [\"damodar\",\"sagar\",\"santosh\",\"sushil\",\"sagar\",\"santosh\",\"sushil\",\"sagar\",\"santosh\",\"sushil\"]\n",
    "[words[0] for words in words]"
   ]
  },
  {
   "cell_type": "code",
   "execution_count": 6,
   "metadata": {},
   "outputs": [],
   "source": [
    "list3 = [[1,2,3],[4,5,6],[7,8,9]]"
   ]
  },
  {
   "cell_type": "code",
   "execution_count": 12,
   "metadata": {},
   "outputs": [
    {
     "name": "stdout",
     "output_type": "stream",
     "text": [
      "[[7, 8, 9]]\n"
     ]
    }
   ],
   "source": [
    "for i in list3:\n",
    "    list1=[i]\n",
    "print(list1)"
   ]
  },
  {
   "cell_type": "code",
   "execution_count": 11,
   "metadata": {},
   "outputs": [
    {
     "ename": "SyntaxError",
     "evalue": "invalid syntax. Perhaps you forgot a comma? (675482527.py, line 1)",
     "output_type": "error",
     "traceback": [
      "\u001b[1;36m  Cell \u001b[1;32mIn[11], line 1\u001b[1;36m\u001b[0m\n\u001b[1;33m    [j list1 for l in i]\u001b[0m\n\u001b[1;37m     ^\u001b[0m\n\u001b[1;31mSyntaxError\u001b[0m\u001b[1;31m:\u001b[0m invalid syntax. Perhaps you forgot a comma?\n"
     ]
    }
   ],
   "source": [
    "[j list1 for l in i]"
   ]
  },
  {
   "cell_type": "code",
   "execution_count": null,
   "metadata": {},
   "outputs": [],
   "source": []
  }
 ],
 "metadata": {
  "kernelspec": {
   "display_name": "Python 3",
   "language": "python",
   "name": "python3"
  },
  "language_info": {
   "codemirror_mode": {
    "name": "ipython",
    "version": 3
   },
   "file_extension": ".py",
   "mimetype": "text/x-python",
   "name": "python",
   "nbconvert_exporter": "python",
   "pygments_lexer": "ipython3",
   "version": "3.12.1"
  }
 },
 "nbformat": 4,
 "nbformat_minor": 2
}
