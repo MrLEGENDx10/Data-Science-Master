{
 "cells": [
  {
   "cell_type": "markdown",
   "metadata": {},
   "source": [
    "# Introduction\n",
    "\n",
    "The performance of a machine learning model is influenced by several factors. These include not only the model and the hyperparameters, but also how we process and feed different types of variables to the model. \n",
    "\n",
    "Most machine learning models only accept numerical variables. Therefore, preprocessing the categorical variables becomes a necessary step. We need to convert these categorical variables to numbers. This allows the model to understand and extract valuable information.\n",
    "[Visit the website](https://www.analyticsvidhya.com/blog/2020/08/types-of-categorical-data-encoding/)"
   ]
  },
  {
   "cell_type": "code",
   "execution_count": null,
   "metadata": {},
   "outputs": [],
   "source": []
  }
 ],
 "metadata": {
  "language_info": {
   "name": "python"
  }
 },
 "nbformat": 4,
 "nbformat_minor": 2
}
